{
  "nbformat": 4,
  "nbformat_minor": 0,
  "metadata": {
    "colab": {
      "provenance": [],
      "authorship_tag": "ABX9TyMCIfAjW5nabh+3Du27TMQK",
      "include_colab_link": true
    },
    "kernelspec": {
      "name": "python3",
      "display_name": "Python 3"
    },
    "language_info": {
      "name": "python"
    }
  },
  "cells": [
    {
      "cell_type": "markdown",
      "metadata": {
        "id": "view-in-github",
        "colab_type": "text"
      },
      "source": [
        "<a href=\"https://colab.research.google.com/github/Nasreen69/NLP/blob/main/NLP_Basics_IMDB.ipynb\" target=\"_parent\"><img src=\"https://colab.research.google.com/assets/colab-badge.svg\" alt=\"Open In Colab\"/></a>"
      ]
    },
    {
      "cell_type": "code",
      "execution_count": null,
      "metadata": {
        "id": "0iotEIOhIKHl"
      },
      "outputs": [],
      "source": [
        "# packages we can use are spacy / nltk \n",
        "import spacy "
      ]
    },
    {
      "cell_type": "code",
      "source": [
        "# inside spacy there are pre-defined models which understands english \n",
        "# load the pre-defined model \n",
        "nlp = spacy.load(\"en_core_web_sm\")"
      ],
      "metadata": {
        "id": "cstBPvBAJXWj"
      },
      "execution_count": null,
      "outputs": []
    },
    {
      "cell_type": "code",
      "source": [
        "text_data = \"Welcome to a new session of Machine Learning which is Natural Learning Processing(NLP)\"\n",
        "text_data1 = \"The Mars Orbiter Mission (MOM), informally known as Mangalyaan, was launched into Earth orbit on 5 November 2013 by the Indian Space Research Organisation (ISRO) and has entered Mars orbit on 24 September 2014. India thus became the first country to enter Mars orbit on its first attempt. It was completed at a record low cost of $74 million.\"\n",
        "text = \"The spaCy v3 trained pipelines are designed to be efficient and configurable. For example, multiple components can share a common “token-to-vector” model and it’s easy to swap out or disable the lemmatizer. The pipelines are designed to be efficient in terms of speed and size and work well when the pipeline is run in full.\"\n",
        "text1 = \"This is example.\"\n",
        "print(text_data)"
      ],
      "metadata": {
        "colab": {
          "base_uri": "https://localhost:8080/"
        },
        "id": "C0lINVIcJgit",
        "outputId": "96011af7-8aef-43fe-b0df-e1d8d87c0a34"
      },
      "execution_count": null,
      "outputs": [
        {
          "output_type": "stream",
          "name": "stdout",
          "text": [
            "Welcome to a new session of Machine Learning which is Natural Learning Processing(NLP)\n"
          ]
        }
      ]
    },
    {
      "cell_type": "code",
      "source": [
        "doc = nlp(text_data)\n",
        "print(doc)"
      ],
      "metadata": {
        "colab": {
          "base_uri": "https://localhost:8080/"
        },
        "id": "rPtYDWG-KM6S",
        "outputId": "c4f68692-7420-42df-8ff4-380c3a2bf4b5"
      },
      "execution_count": null,
      "outputs": [
        {
          "output_type": "stream",
          "name": "stdout",
          "text": [
            "Welcome to a new session of Machine Learning which is Natural Learning Processing(NLP)\n"
          ]
        }
      ]
    },
    {
      "cell_type": "code",
      "source": [
        "for token in doc:\n",
        "  print(token.text)"
      ],
      "metadata": {
        "colab": {
          "base_uri": "https://localhost:8080/"
        },
        "id": "3c91QVKXNSIM",
        "outputId": "f0c7931a-2a65-46e9-952b-282ec349071e"
      },
      "execution_count": null,
      "outputs": [
        {
          "output_type": "stream",
          "name": "stdout",
          "text": [
            "Welcome\n",
            "to\n",
            "a\n",
            "new\n",
            "session\n",
            "of\n",
            "Machine\n",
            "Learning\n",
            "which\n",
            "is\n",
            "Natural\n",
            "Learning\n",
            "Processing(NLP\n",
            ")\n"
          ]
        }
      ]
    },
    {
      "cell_type": "code",
      "source": [
        "import nltk\n",
        "from nltk.tokenize import sent_tokenize, word_tokenize\n",
        "nltk.download('punkt') #punkt is a inbulit model in nltk which helps tokenize, split words"
      ],
      "metadata": {
        "colab": {
          "base_uri": "https://localhost:8080/"
        },
        "id": "SECcSg8DNpEa",
        "outputId": "05058608-c029-4735-a14d-c748990127e4"
      },
      "execution_count": null,
      "outputs": [
        {
          "output_type": "stream",
          "name": "stdout",
          "text": [
            "[nltk_data] Downloading package punkt to /root/nltk_data...\n",
            "[nltk_data]   Unzipping tokenizers/punkt.zip.\n"
          ]
        },
        {
          "output_type": "execute_result",
          "data": {
            "text/plain": [
              "True"
            ]
          },
          "metadata": {},
          "execution_count": 7
        }
      ]
    },
    {
      "cell_type": "code",
      "source": [
        "print(word_tokenize(text_data))"
      ],
      "metadata": {
        "colab": {
          "base_uri": "https://localhost:8080/"
        },
        "id": "sZVtMdn1PAaD",
        "outputId": "62ebb07d-f57e-423c-e445-e572e6789715"
      },
      "execution_count": null,
      "outputs": [
        {
          "output_type": "stream",
          "name": "stdout",
          "text": [
            "['Welcome', 'to', 'a', 'new', 'session', 'of', 'Machine', 'Learning', 'which', 'is', 'Natural', 'Learning', 'Processing', '(', 'NLP', ')']\n"
          ]
        }
      ]
    },
    {
      "cell_type": "code",
      "source": [
        "# like spacy we have nltk which also can be used to process text data\n",
        "# we will concatenate on using spacy\n",
        "# brain will concentrate the relevant words \n",
        "# you may want to know which are the STOPWORDS inside your tokens"
      ],
      "metadata": {
        "id": "ZoMkijSyPssP"
      },
      "execution_count": null,
      "outputs": []
    },
    {
      "cell_type": "code",
      "source": [
        "stopwords = nlp.Defaults.stop_words\n",
        "print(stopwords)\n",
        "\n",
        "#stopwords are the words which do not add a lot of valuable information to the sentence, I am there...\n",
        "# corpus of words --> where did we get this set of words? from nlp(nlp = spacy.load(\"en_core_web_sm\"))"
      ],
      "metadata": {
        "colab": {
          "base_uri": "https://localhost:8080/"
        },
        "id": "GQIjxzJYRH_g",
        "outputId": "fd614b0b-4e51-4c06-91a2-c57454019e21"
      },
      "execution_count": null,
      "outputs": [
        {
          "output_type": "stream",
          "name": "stdout",
          "text": [
            "{'top', 'go', 'we', 'n’t', 'eight', '’re', 'further', 'who', 'throughout', 'not', 'name', 'hereupon', 'fifteen', 'give', 'per', 'formerly', 'meanwhile', 'thus', 'perhaps', 'moreover', 'ourselves', 'at', 'its', 'where', 'he', 'how', 'can', 'former', 'because', 'call', 'him', 'whither', 'since', 'any', 'your', 'nor', 'thence', 'besides', 'four', 'by', 'been', 'for', 'take', 'was', 'herein', 'between', 'becomes', 'also', 'this', 'do', 'several', 'anything', 'eleven', 'something', 're', 'very', 'those', 'yet', 'as', 'rather', 'five', 'onto', 'yourself', 'and', 'must', 'due', 'say', 'few', 'anyhow', 'still', \"'ll\", 'all', '‘ve', 'always', 'therein', '’s', '’d', 'being', 'nevertheless', 'towards', 'amount', 'see', 'seemed', 'most', '’ve', 'their', 'used', 'next', 'unless', \"'m\", 'below', 'using', \"'ve\", 'beyond', 'her', 'if', 'mostly', 'did', 'twelve', 'whom', 'others', 'full', 'along', 'than', 'on', 'three', 'does', 'with', 'already', 'but', 'became', 'somehow', '‘s', 'us', 'whole', 'off', 'whether', 'herself', 'same', 'one', 'beforehand', 'upon', 'about', 'against', 'ours', 'everywhere', 'regarding', 'ca', \"n't\", 'whence', 'could', 'however', 'mine', 'somewhere', 'really', 'various', 'whose', 'it', 'hers', 'is', 'nobody', 'fifty', 'become', 'among', 'toward', 'put', 'out', 'she', 'forty', 'during', 'twenty', 'whatever', 'why', 'whereafter', 'two', 'may', 'another', 'someone', 'they', '’ll', 'hereby', 'seeming', 'front', 'often', 'then', 'them', 'whenever', 'never', 'wherein', 'behind', 'when', 'are', 'less', 'much', 'seems', 'otherwise', 'sometimes', 'above', 'again', 'own', 'to', 'afterwards', 'ten', 'within', 'cannot', 'thru', 'although', 'across', 'once', 'had', 'i', 'nothing', 'everyone', 'our', 'should', 'whoever', 'have', 'make', 'least', 'be', 'even', 'were', 'please', 'without', 'latter', 'the', 'seem', 'which', 'through', 'thereby', 'myself', 'ever', 'both', 'me', 'well', 'hundred', 'around', 'except', 'has', 'thereupon', 'such', 'none', 'empty', 'sixty', 'whereby', 'together', 'thereafter', 'quite', 'get', 'am', 'beside', 'from', 'nowhere', 'while', 'indeed', 'what', 'might', \"'re\", 'neither', '‘d', 'hence', 'into', 'each', 'many', '’m', 'only', 'last', 'that', 'enough', 'therefore', '‘re', 'yours', 'sometime', 'done', 'there', 'down', 'will', 'before', 'whereas', 'anyway', 'first', 'bottom', 'just', 'some', 'anyone', 'elsewhere', 'or', 'back', 'until', 'serious', 'six', 'alone', 'after', 'doing', 'every', 'yourselves', 'keep', 'latterly', 'though', 'part', 'his', 'an', 'of', 'so', 'my', 'almost', 'a', 'would', 'everything', \"'d\", 'now', 'these', 'noone', 'other', 'n‘t', 'you', 'whereupon', 'too', \"'s\", 'nine', 'hereafter', 'more', 'themselves', 'in', 'show', 'anywhere', 'either', 'under', 'himself', 'over', 'no', 'amongst', '‘ll', 'itself', 'becoming', 'made', 'wherever', '‘m', 'up', 'else', 'side', 'third', 'here', 'move', 'namely', 'via'}\n"
          ]
        }
      ]
    },
    {
      "cell_type": "code",
      "source": [
        "# find the length of list of stopwords\n",
        "len(stopwords)"
      ],
      "metadata": {
        "colab": {
          "base_uri": "https://localhost:8080/"
        },
        "id": "14qPwaLWRloK",
        "outputId": "efd22888-8dda-4a03-e7cb-b5c98a9c70c2"
      },
      "execution_count": null,
      "outputs": [
        {
          "output_type": "execute_result",
          "data": {
            "text/plain": [
              "326"
            ]
          },
          "metadata": {},
          "execution_count": 11
        }
      ]
    },
    {
      "cell_type": "code",
      "source": [
        "# checking the stop words in doc(text data)\n",
        "for token in doc:\n",
        "  print(token.is_stop)"
      ],
      "metadata": {
        "colab": {
          "base_uri": "https://localhost:8080/"
        },
        "id": "0WjF--2hRVDz",
        "outputId": "4ac965c8-1774-4f22-b573-5088aea75527"
      },
      "execution_count": null,
      "outputs": [
        {
          "output_type": "stream",
          "name": "stdout",
          "text": [
            "False\n",
            "True\n",
            "True\n",
            "False\n",
            "False\n",
            "True\n",
            "False\n",
            "False\n",
            "True\n",
            "True\n",
            "False\n",
            "False\n",
            "False\n",
            "False\n"
          ]
        }
      ]
    },
    {
      "cell_type": "code",
      "source": [
        "# remove all the stop words in the list of tokens of text_data\n",
        "# create a list which contains only the tokens which are not stopwords\n",
        "text_sw = []\n",
        "\n",
        "for token in doc:\n",
        "  if token.is_stop:\n",
        "    continue\n",
        "  else:\n",
        "    text_sw.append(token)\n",
        "\n",
        "print(text_sw)"
      ],
      "metadata": {
        "id": "qvoo3240TubZ",
        "colab": {
          "base_uri": "https://localhost:8080/"
        },
        "outputId": "f73115e7-e8e9-413a-e170-4de302c25ced"
      },
      "execution_count": null,
      "outputs": [
        {
          "output_type": "stream",
          "name": "stdout",
          "text": [
            "[Welcome, new, session, Machine, Learning, Natural, Learning, Processing(NLP, )]\n"
          ]
        }
      ]
    },
    {
      "cell_type": "markdown",
      "source": [
        "### Tokenize the given sentence and do the stop wrods\n",
        "The Mars Orbiter Mission (MOM), informally known as Mangalyaan, was launched into Earth orbit on 5 November 2013 by the Indian Space Research Organisation (ISRO) and has entered Mars orbit on 24 September 2014. India thus became the first country to enter Mars orbit on its first attempt. It was completed at a record low cost of $74 million."
      ],
      "metadata": {
        "id": "Fq3pYh4P6pj_"
      }
    },
    {
      "cell_type": "code",
      "source": [
        "sentence = \"The Mars Orbiter Mission (MOM), informally known as Mangalyaan, was launched into Earth orbit on 5 November 2013 by the Indian Space Research Organisation (ISRO) and has entered Mars orbit on 24 September 2014. India thus became the first country to enter Mars orbit on its first attempt. It was completed at a record low cost of $74 million.\""
      ],
      "metadata": {
        "id": "VjAbKjMY6whw"
      },
      "execution_count": null,
      "outputs": []
    },
    {
      "cell_type": "code",
      "source": [
        "docy = nlp(sentence)\n",
        "print(docy)"
      ],
      "metadata": {
        "colab": {
          "base_uri": "https://localhost:8080/"
        },
        "id": "1btXY8Tp6_zh",
        "outputId": "7f45a713-2127-4353-c01f-5148c5dd4367"
      },
      "execution_count": null,
      "outputs": [
        {
          "output_type": "stream",
          "name": "stdout",
          "text": [
            "The Mars Orbiter Mission (MOM), informally known as Mangalyaan, was launched into Earth orbit on 5 November 2013 by the Indian Space Research Organisation (ISRO) and has entered Mars orbit on 24 September 2014. India thus became the first country to enter Mars orbit on its first attempt. It was completed at a record low cost of $74 million.\n"
          ]
        }
      ]
    },
    {
      "cell_type": "code",
      "source": [
        "for token in docy:\n",
        "  print(token.text)"
      ],
      "metadata": {
        "colab": {
          "base_uri": "https://localhost:8080/"
        },
        "collapsed": true,
        "id": "B0n0qO3E7VUo",
        "outputId": "0e63c20b-5db4-4ce9-b309-35334dd3b1cc"
      },
      "execution_count": null,
      "outputs": [
        {
          "output_type": "stream",
          "name": "stdout",
          "text": [
            "The\n",
            "Mars\n",
            "Orbiter\n",
            "Mission\n",
            "(\n",
            "MOM\n",
            ")\n",
            ",\n",
            "informally\n",
            "known\n",
            "as\n",
            "Mangalyaan\n",
            ",\n",
            "was\n",
            "launched\n",
            "into\n",
            "Earth\n",
            "orbit\n",
            "on\n",
            "5\n",
            "November\n",
            "2013\n",
            "by\n",
            "the\n",
            "Indian\n",
            "Space\n",
            "Research\n",
            "Organisation\n",
            "(\n",
            "ISRO\n",
            ")\n",
            "and\n",
            "has\n",
            "entered\n",
            "Mars\n",
            "orbit\n",
            "on\n",
            "24\n",
            "September\n",
            "2014\n",
            ".\n",
            "India\n",
            "thus\n",
            "became\n",
            "the\n",
            "first\n",
            "country\n",
            "to\n",
            "enter\n",
            "Mars\n",
            "orbit\n",
            "on\n",
            "its\n",
            "first\n",
            "attempt\n",
            ".\n",
            "It\n",
            "was\n",
            "completed\n",
            "at\n",
            "a\n",
            "record\n",
            "low\n",
            "cost\n",
            "of\n",
            "$\n",
            "74\n",
            "million\n",
            ".\n"
          ]
        }
      ]
    },
    {
      "cell_type": "code",
      "source": [
        "from yaml.events import SequenceStartEvent\n",
        "sen = []\n",
        "\n",
        "for token in docy:\n",
        "  if token.is_stop:\n",
        "    continue\n",
        "  else:\n",
        "    sen.append(token)\n",
        "\n",
        "print(sen)"
      ],
      "metadata": {
        "colab": {
          "base_uri": "https://localhost:8080/"
        },
        "id": "08Vx3Nqb7sWQ",
        "outputId": "eef7eeba-5860-42ca-a380-6812e8951771"
      },
      "execution_count": null,
      "outputs": [
        {
          "output_type": "stream",
          "name": "stdout",
          "text": [
            "[Mars, Orbiter, Mission, (, MOM, ), ,, informally, known, Mangalyaan, ,, launched, Earth, orbit, 5, November, 2013, Indian, Space, Research, Organisation, (, ISRO, ), entered, Mars, orbit, 24, September, 2014, ., India, country, enter, Mars, orbit, attempt, ., completed, record, low, cost, $, 74, million, .]\n"
          ]
        }
      ]
    },
    {
      "cell_type": "code",
      "source": [
        "# Find the punctuations[( , . )] in the tokens:\n",
        "\n",
        "import pandas as pd\n",
        "pd.set_option('max_rows', 99999)\n",
        "pd.set_option('max_colwidth', 400)\n",
        "pd.describe_option('max_colwidth')\n",
        "\n",
        "tokenized_text = pd.DataFrame()\n",
        "\n",
        "for i, token in enumerate(docy):\n",
        "  tokenized_text.loc[i, 'Tokens'] = token.text\n",
        "  tokenized_text.loc[i, 'stop words'] = token.is_stop\n",
        "  tokenized_text.loc[i, 'IS_PUNCTUATION'] = token.is_punct\n",
        "  tokenized_text.loc[i, 'POS'] = token.pos_  # add which tokens are belonging to which part of speech?\n",
        "  tokenized_text.loc[i, 'lemma'] = token.lemma_ # which tokens have the same origin? --> origin/root word of each token --> lemmatization -->lemma\n",
        "  tokenized_text.loc[i, 'currency'] = token.is_currency\n",
        "  tokenized_text.loc[i, 'TAG'] = token.tag_ # what is this func .tag_ returning? --> search in official doc --> spacy\n",
        "\n",
        "tokenized_text"
      ],
      "metadata": {
        "colab": {
          "base_uri": "https://localhost:8080/",
          "height": 1000
        },
        "id": "y4cisxNW9_Me",
        "outputId": "68d50307-f2d5-418a-b485-55fbc1aa6e6b"
      },
      "execution_count": null,
      "outputs": [
        {
          "output_type": "stream",
          "name": "stdout",
          "text": [
            "display.max_colwidth : int or None\n",
            "    The maximum width in characters of a column in the repr of\n",
            "    a pandas data structure. When the column overflows, a \"...\"\n",
            "    placeholder is embedded in the output. A 'None' value means unlimited.\n",
            "    [default: 50] [currently: 400]\n"
          ]
        },
        {
          "output_type": "execute_result",
          "data": {
            "text/html": [
              "\n",
              "  <div id=\"df-f584087e-3e1f-421f-9e98-e807cb211608\">\n",
              "    <div class=\"colab-df-container\">\n",
              "      <div>\n",
              "<style scoped>\n",
              "    .dataframe tbody tr th:only-of-type {\n",
              "        vertical-align: middle;\n",
              "    }\n",
              "\n",
              "    .dataframe tbody tr th {\n",
              "        vertical-align: top;\n",
              "    }\n",
              "\n",
              "    .dataframe thead th {\n",
              "        text-align: right;\n",
              "    }\n",
              "</style>\n",
              "<table border=\"1\" class=\"dataframe\">\n",
              "  <thead>\n",
              "    <tr style=\"text-align: right;\">\n",
              "      <th></th>\n",
              "      <th>Tokens</th>\n",
              "      <th>stop words</th>\n",
              "      <th>IS_PUNCTUATION</th>\n",
              "      <th>POS</th>\n",
              "      <th>lemma</th>\n",
              "      <th>currency</th>\n",
              "      <th>TAG</th>\n",
              "    </tr>\n",
              "  </thead>\n",
              "  <tbody>\n",
              "    <tr>\n",
              "      <th>0</th>\n",
              "      <td>The</td>\n",
              "      <td>True</td>\n",
              "      <td>False</td>\n",
              "      <td>DET</td>\n",
              "      <td>the</td>\n",
              "      <td>False</td>\n",
              "      <td>DT</td>\n",
              "    </tr>\n",
              "    <tr>\n",
              "      <th>1</th>\n",
              "      <td>Mars</td>\n",
              "      <td>False</td>\n",
              "      <td>False</td>\n",
              "      <td>PROPN</td>\n",
              "      <td>Mars</td>\n",
              "      <td>False</td>\n",
              "      <td>NNP</td>\n",
              "    </tr>\n",
              "    <tr>\n",
              "      <th>2</th>\n",
              "      <td>Orbiter</td>\n",
              "      <td>False</td>\n",
              "      <td>False</td>\n",
              "      <td>PROPN</td>\n",
              "      <td>Orbiter</td>\n",
              "      <td>False</td>\n",
              "      <td>NNP</td>\n",
              "    </tr>\n",
              "    <tr>\n",
              "      <th>3</th>\n",
              "      <td>Mission</td>\n",
              "      <td>False</td>\n",
              "      <td>False</td>\n",
              "      <td>PROPN</td>\n",
              "      <td>Mission</td>\n",
              "      <td>False</td>\n",
              "      <td>NNP</td>\n",
              "    </tr>\n",
              "    <tr>\n",
              "      <th>4</th>\n",
              "      <td>(</td>\n",
              "      <td>False</td>\n",
              "      <td>True</td>\n",
              "      <td>PUNCT</td>\n",
              "      <td>(</td>\n",
              "      <td>False</td>\n",
              "      <td>-LRB-</td>\n",
              "    </tr>\n",
              "    <tr>\n",
              "      <th>5</th>\n",
              "      <td>MOM</td>\n",
              "      <td>False</td>\n",
              "      <td>False</td>\n",
              "      <td>PROPN</td>\n",
              "      <td>MOM</td>\n",
              "      <td>False</td>\n",
              "      <td>NNP</td>\n",
              "    </tr>\n",
              "    <tr>\n",
              "      <th>6</th>\n",
              "      <td>)</td>\n",
              "      <td>False</td>\n",
              "      <td>True</td>\n",
              "      <td>PUNCT</td>\n",
              "      <td>)</td>\n",
              "      <td>False</td>\n",
              "      <td>-RRB-</td>\n",
              "    </tr>\n",
              "    <tr>\n",
              "      <th>7</th>\n",
              "      <td>,</td>\n",
              "      <td>False</td>\n",
              "      <td>True</td>\n",
              "      <td>PUNCT</td>\n",
              "      <td>,</td>\n",
              "      <td>False</td>\n",
              "      <td>,</td>\n",
              "    </tr>\n",
              "    <tr>\n",
              "      <th>8</th>\n",
              "      <td>informally</td>\n",
              "      <td>False</td>\n",
              "      <td>False</td>\n",
              "      <td>ADV</td>\n",
              "      <td>informally</td>\n",
              "      <td>False</td>\n",
              "      <td>RB</td>\n",
              "    </tr>\n",
              "    <tr>\n",
              "      <th>9</th>\n",
              "      <td>known</td>\n",
              "      <td>False</td>\n",
              "      <td>False</td>\n",
              "      <td>VERB</td>\n",
              "      <td>know</td>\n",
              "      <td>False</td>\n",
              "      <td>VBN</td>\n",
              "    </tr>\n",
              "    <tr>\n",
              "      <th>10</th>\n",
              "      <td>as</td>\n",
              "      <td>True</td>\n",
              "      <td>False</td>\n",
              "      <td>SCONJ</td>\n",
              "      <td>as</td>\n",
              "      <td>False</td>\n",
              "      <td>IN</td>\n",
              "    </tr>\n",
              "    <tr>\n",
              "      <th>11</th>\n",
              "      <td>Mangalyaan</td>\n",
              "      <td>False</td>\n",
              "      <td>False</td>\n",
              "      <td>PROPN</td>\n",
              "      <td>Mangalyaan</td>\n",
              "      <td>False</td>\n",
              "      <td>NNP</td>\n",
              "    </tr>\n",
              "    <tr>\n",
              "      <th>12</th>\n",
              "      <td>,</td>\n",
              "      <td>False</td>\n",
              "      <td>True</td>\n",
              "      <td>PUNCT</td>\n",
              "      <td>,</td>\n",
              "      <td>False</td>\n",
              "      <td>,</td>\n",
              "    </tr>\n",
              "    <tr>\n",
              "      <th>13</th>\n",
              "      <td>was</td>\n",
              "      <td>True</td>\n",
              "      <td>False</td>\n",
              "      <td>AUX</td>\n",
              "      <td>be</td>\n",
              "      <td>False</td>\n",
              "      <td>VBD</td>\n",
              "    </tr>\n",
              "    <tr>\n",
              "      <th>14</th>\n",
              "      <td>launched</td>\n",
              "      <td>False</td>\n",
              "      <td>False</td>\n",
              "      <td>VERB</td>\n",
              "      <td>launch</td>\n",
              "      <td>False</td>\n",
              "      <td>VBN</td>\n",
              "    </tr>\n",
              "    <tr>\n",
              "      <th>15</th>\n",
              "      <td>into</td>\n",
              "      <td>True</td>\n",
              "      <td>False</td>\n",
              "      <td>ADP</td>\n",
              "      <td>into</td>\n",
              "      <td>False</td>\n",
              "      <td>IN</td>\n",
              "    </tr>\n",
              "    <tr>\n",
              "      <th>16</th>\n",
              "      <td>Earth</td>\n",
              "      <td>False</td>\n",
              "      <td>False</td>\n",
              "      <td>PROPN</td>\n",
              "      <td>Earth</td>\n",
              "      <td>False</td>\n",
              "      <td>NNP</td>\n",
              "    </tr>\n",
              "    <tr>\n",
              "      <th>17</th>\n",
              "      <td>orbit</td>\n",
              "      <td>False</td>\n",
              "      <td>False</td>\n",
              "      <td>NOUN</td>\n",
              "      <td>orbit</td>\n",
              "      <td>False</td>\n",
              "      <td>NN</td>\n",
              "    </tr>\n",
              "    <tr>\n",
              "      <th>18</th>\n",
              "      <td>on</td>\n",
              "      <td>True</td>\n",
              "      <td>False</td>\n",
              "      <td>ADP</td>\n",
              "      <td>on</td>\n",
              "      <td>False</td>\n",
              "      <td>IN</td>\n",
              "    </tr>\n",
              "    <tr>\n",
              "      <th>19</th>\n",
              "      <td>5</td>\n",
              "      <td>False</td>\n",
              "      <td>False</td>\n",
              "      <td>NUM</td>\n",
              "      <td>5</td>\n",
              "      <td>False</td>\n",
              "      <td>CD</td>\n",
              "    </tr>\n",
              "    <tr>\n",
              "      <th>20</th>\n",
              "      <td>November</td>\n",
              "      <td>False</td>\n",
              "      <td>False</td>\n",
              "      <td>PROPN</td>\n",
              "      <td>November</td>\n",
              "      <td>False</td>\n",
              "      <td>NNP</td>\n",
              "    </tr>\n",
              "    <tr>\n",
              "      <th>21</th>\n",
              "      <td>2013</td>\n",
              "      <td>False</td>\n",
              "      <td>False</td>\n",
              "      <td>NUM</td>\n",
              "      <td>2013</td>\n",
              "      <td>False</td>\n",
              "      <td>CD</td>\n",
              "    </tr>\n",
              "    <tr>\n",
              "      <th>22</th>\n",
              "      <td>by</td>\n",
              "      <td>True</td>\n",
              "      <td>False</td>\n",
              "      <td>ADP</td>\n",
              "      <td>by</td>\n",
              "      <td>False</td>\n",
              "      <td>IN</td>\n",
              "    </tr>\n",
              "    <tr>\n",
              "      <th>23</th>\n",
              "      <td>the</td>\n",
              "      <td>True</td>\n",
              "      <td>False</td>\n",
              "      <td>DET</td>\n",
              "      <td>the</td>\n",
              "      <td>False</td>\n",
              "      <td>DT</td>\n",
              "    </tr>\n",
              "    <tr>\n",
              "      <th>24</th>\n",
              "      <td>Indian</td>\n",
              "      <td>False</td>\n",
              "      <td>False</td>\n",
              "      <td>PROPN</td>\n",
              "      <td>Indian</td>\n",
              "      <td>False</td>\n",
              "      <td>NNP</td>\n",
              "    </tr>\n",
              "    <tr>\n",
              "      <th>25</th>\n",
              "      <td>Space</td>\n",
              "      <td>False</td>\n",
              "      <td>False</td>\n",
              "      <td>PROPN</td>\n",
              "      <td>Space</td>\n",
              "      <td>False</td>\n",
              "      <td>NNP</td>\n",
              "    </tr>\n",
              "    <tr>\n",
              "      <th>26</th>\n",
              "      <td>Research</td>\n",
              "      <td>False</td>\n",
              "      <td>False</td>\n",
              "      <td>PROPN</td>\n",
              "      <td>Research</td>\n",
              "      <td>False</td>\n",
              "      <td>NNP</td>\n",
              "    </tr>\n",
              "    <tr>\n",
              "      <th>27</th>\n",
              "      <td>Organisation</td>\n",
              "      <td>False</td>\n",
              "      <td>False</td>\n",
              "      <td>PROPN</td>\n",
              "      <td>Organisation</td>\n",
              "      <td>False</td>\n",
              "      <td>NNP</td>\n",
              "    </tr>\n",
              "    <tr>\n",
              "      <th>28</th>\n",
              "      <td>(</td>\n",
              "      <td>False</td>\n",
              "      <td>True</td>\n",
              "      <td>PUNCT</td>\n",
              "      <td>(</td>\n",
              "      <td>False</td>\n",
              "      <td>-LRB-</td>\n",
              "    </tr>\n",
              "    <tr>\n",
              "      <th>29</th>\n",
              "      <td>ISRO</td>\n",
              "      <td>False</td>\n",
              "      <td>False</td>\n",
              "      <td>PROPN</td>\n",
              "      <td>ISRO</td>\n",
              "      <td>False</td>\n",
              "      <td>NNP</td>\n",
              "    </tr>\n",
              "    <tr>\n",
              "      <th>30</th>\n",
              "      <td>)</td>\n",
              "      <td>False</td>\n",
              "      <td>True</td>\n",
              "      <td>PUNCT</td>\n",
              "      <td>)</td>\n",
              "      <td>False</td>\n",
              "      <td>-RRB-</td>\n",
              "    </tr>\n",
              "    <tr>\n",
              "      <th>31</th>\n",
              "      <td>and</td>\n",
              "      <td>True</td>\n",
              "      <td>False</td>\n",
              "      <td>CCONJ</td>\n",
              "      <td>and</td>\n",
              "      <td>False</td>\n",
              "      <td>CC</td>\n",
              "    </tr>\n",
              "    <tr>\n",
              "      <th>32</th>\n",
              "      <td>has</td>\n",
              "      <td>True</td>\n",
              "      <td>False</td>\n",
              "      <td>AUX</td>\n",
              "      <td>have</td>\n",
              "      <td>False</td>\n",
              "      <td>VBZ</td>\n",
              "    </tr>\n",
              "    <tr>\n",
              "      <th>33</th>\n",
              "      <td>entered</td>\n",
              "      <td>False</td>\n",
              "      <td>False</td>\n",
              "      <td>VERB</td>\n",
              "      <td>enter</td>\n",
              "      <td>False</td>\n",
              "      <td>VBN</td>\n",
              "    </tr>\n",
              "    <tr>\n",
              "      <th>34</th>\n",
              "      <td>Mars</td>\n",
              "      <td>False</td>\n",
              "      <td>False</td>\n",
              "      <td>PROPN</td>\n",
              "      <td>Mars</td>\n",
              "      <td>False</td>\n",
              "      <td>NNP</td>\n",
              "    </tr>\n",
              "    <tr>\n",
              "      <th>35</th>\n",
              "      <td>orbit</td>\n",
              "      <td>False</td>\n",
              "      <td>False</td>\n",
              "      <td>NOUN</td>\n",
              "      <td>orbit</td>\n",
              "      <td>False</td>\n",
              "      <td>NN</td>\n",
              "    </tr>\n",
              "    <tr>\n",
              "      <th>36</th>\n",
              "      <td>on</td>\n",
              "      <td>True</td>\n",
              "      <td>False</td>\n",
              "      <td>ADP</td>\n",
              "      <td>on</td>\n",
              "      <td>False</td>\n",
              "      <td>IN</td>\n",
              "    </tr>\n",
              "    <tr>\n",
              "      <th>37</th>\n",
              "      <td>24</td>\n",
              "      <td>False</td>\n",
              "      <td>False</td>\n",
              "      <td>NUM</td>\n",
              "      <td>24</td>\n",
              "      <td>False</td>\n",
              "      <td>CD</td>\n",
              "    </tr>\n",
              "    <tr>\n",
              "      <th>38</th>\n",
              "      <td>September</td>\n",
              "      <td>False</td>\n",
              "      <td>False</td>\n",
              "      <td>PROPN</td>\n",
              "      <td>September</td>\n",
              "      <td>False</td>\n",
              "      <td>NNP</td>\n",
              "    </tr>\n",
              "    <tr>\n",
              "      <th>39</th>\n",
              "      <td>2014</td>\n",
              "      <td>False</td>\n",
              "      <td>False</td>\n",
              "      <td>NUM</td>\n",
              "      <td>2014</td>\n",
              "      <td>False</td>\n",
              "      <td>CD</td>\n",
              "    </tr>\n",
              "    <tr>\n",
              "      <th>40</th>\n",
              "      <td>.</td>\n",
              "      <td>False</td>\n",
              "      <td>True</td>\n",
              "      <td>PUNCT</td>\n",
              "      <td>.</td>\n",
              "      <td>False</td>\n",
              "      <td>.</td>\n",
              "    </tr>\n",
              "    <tr>\n",
              "      <th>41</th>\n",
              "      <td>India</td>\n",
              "      <td>False</td>\n",
              "      <td>False</td>\n",
              "      <td>PROPN</td>\n",
              "      <td>India</td>\n",
              "      <td>False</td>\n",
              "      <td>NNP</td>\n",
              "    </tr>\n",
              "    <tr>\n",
              "      <th>42</th>\n",
              "      <td>thus</td>\n",
              "      <td>True</td>\n",
              "      <td>False</td>\n",
              "      <td>ADV</td>\n",
              "      <td>thus</td>\n",
              "      <td>False</td>\n",
              "      <td>RB</td>\n",
              "    </tr>\n",
              "    <tr>\n",
              "      <th>43</th>\n",
              "      <td>became</td>\n",
              "      <td>True</td>\n",
              "      <td>False</td>\n",
              "      <td>VERB</td>\n",
              "      <td>become</td>\n",
              "      <td>False</td>\n",
              "      <td>VBD</td>\n",
              "    </tr>\n",
              "    <tr>\n",
              "      <th>44</th>\n",
              "      <td>the</td>\n",
              "      <td>True</td>\n",
              "      <td>False</td>\n",
              "      <td>DET</td>\n",
              "      <td>the</td>\n",
              "      <td>False</td>\n",
              "      <td>DT</td>\n",
              "    </tr>\n",
              "    <tr>\n",
              "      <th>45</th>\n",
              "      <td>first</td>\n",
              "      <td>True</td>\n",
              "      <td>False</td>\n",
              "      <td>ADJ</td>\n",
              "      <td>first</td>\n",
              "      <td>False</td>\n",
              "      <td>JJ</td>\n",
              "    </tr>\n",
              "    <tr>\n",
              "      <th>46</th>\n",
              "      <td>country</td>\n",
              "      <td>False</td>\n",
              "      <td>False</td>\n",
              "      <td>NOUN</td>\n",
              "      <td>country</td>\n",
              "      <td>False</td>\n",
              "      <td>NN</td>\n",
              "    </tr>\n",
              "    <tr>\n",
              "      <th>47</th>\n",
              "      <td>to</td>\n",
              "      <td>True</td>\n",
              "      <td>False</td>\n",
              "      <td>PART</td>\n",
              "      <td>to</td>\n",
              "      <td>False</td>\n",
              "      <td>TO</td>\n",
              "    </tr>\n",
              "    <tr>\n",
              "      <th>48</th>\n",
              "      <td>enter</td>\n",
              "      <td>False</td>\n",
              "      <td>False</td>\n",
              "      <td>VERB</td>\n",
              "      <td>enter</td>\n",
              "      <td>False</td>\n",
              "      <td>VB</td>\n",
              "    </tr>\n",
              "    <tr>\n",
              "      <th>49</th>\n",
              "      <td>Mars</td>\n",
              "      <td>False</td>\n",
              "      <td>False</td>\n",
              "      <td>PROPN</td>\n",
              "      <td>Mars</td>\n",
              "      <td>False</td>\n",
              "      <td>NNP</td>\n",
              "    </tr>\n",
              "    <tr>\n",
              "      <th>50</th>\n",
              "      <td>orbit</td>\n",
              "      <td>False</td>\n",
              "      <td>False</td>\n",
              "      <td>NOUN</td>\n",
              "      <td>orbit</td>\n",
              "      <td>False</td>\n",
              "      <td>NN</td>\n",
              "    </tr>\n",
              "    <tr>\n",
              "      <th>51</th>\n",
              "      <td>on</td>\n",
              "      <td>True</td>\n",
              "      <td>False</td>\n",
              "      <td>ADP</td>\n",
              "      <td>on</td>\n",
              "      <td>False</td>\n",
              "      <td>IN</td>\n",
              "    </tr>\n",
              "    <tr>\n",
              "      <th>52</th>\n",
              "      <td>its</td>\n",
              "      <td>True</td>\n",
              "      <td>False</td>\n",
              "      <td>DET</td>\n",
              "      <td>-PRON-</td>\n",
              "      <td>False</td>\n",
              "      <td>PRP$</td>\n",
              "    </tr>\n",
              "    <tr>\n",
              "      <th>53</th>\n",
              "      <td>first</td>\n",
              "      <td>True</td>\n",
              "      <td>False</td>\n",
              "      <td>ADJ</td>\n",
              "      <td>first</td>\n",
              "      <td>False</td>\n",
              "      <td>JJ</td>\n",
              "    </tr>\n",
              "    <tr>\n",
              "      <th>54</th>\n",
              "      <td>attempt</td>\n",
              "      <td>False</td>\n",
              "      <td>False</td>\n",
              "      <td>NOUN</td>\n",
              "      <td>attempt</td>\n",
              "      <td>False</td>\n",
              "      <td>NN</td>\n",
              "    </tr>\n",
              "    <tr>\n",
              "      <th>55</th>\n",
              "      <td>.</td>\n",
              "      <td>False</td>\n",
              "      <td>True</td>\n",
              "      <td>PUNCT</td>\n",
              "      <td>.</td>\n",
              "      <td>False</td>\n",
              "      <td>.</td>\n",
              "    </tr>\n",
              "    <tr>\n",
              "      <th>56</th>\n",
              "      <td>It</td>\n",
              "      <td>True</td>\n",
              "      <td>False</td>\n",
              "      <td>PRON</td>\n",
              "      <td>-PRON-</td>\n",
              "      <td>False</td>\n",
              "      <td>PRP</td>\n",
              "    </tr>\n",
              "    <tr>\n",
              "      <th>57</th>\n",
              "      <td>was</td>\n",
              "      <td>True</td>\n",
              "      <td>False</td>\n",
              "      <td>AUX</td>\n",
              "      <td>be</td>\n",
              "      <td>False</td>\n",
              "      <td>VBD</td>\n",
              "    </tr>\n",
              "    <tr>\n",
              "      <th>58</th>\n",
              "      <td>completed</td>\n",
              "      <td>False</td>\n",
              "      <td>False</td>\n",
              "      <td>VERB</td>\n",
              "      <td>complete</td>\n",
              "      <td>False</td>\n",
              "      <td>VBN</td>\n",
              "    </tr>\n",
              "    <tr>\n",
              "      <th>59</th>\n",
              "      <td>at</td>\n",
              "      <td>True</td>\n",
              "      <td>False</td>\n",
              "      <td>ADP</td>\n",
              "      <td>at</td>\n",
              "      <td>False</td>\n",
              "      <td>IN</td>\n",
              "    </tr>\n",
              "    <tr>\n",
              "      <th>60</th>\n",
              "      <td>a</td>\n",
              "      <td>True</td>\n",
              "      <td>False</td>\n",
              "      <td>DET</td>\n",
              "      <td>a</td>\n",
              "      <td>False</td>\n",
              "      <td>DT</td>\n",
              "    </tr>\n",
              "    <tr>\n",
              "      <th>61</th>\n",
              "      <td>record</td>\n",
              "      <td>False</td>\n",
              "      <td>False</td>\n",
              "      <td>NOUN</td>\n",
              "      <td>record</td>\n",
              "      <td>False</td>\n",
              "      <td>NN</td>\n",
              "    </tr>\n",
              "    <tr>\n",
              "      <th>62</th>\n",
              "      <td>low</td>\n",
              "      <td>False</td>\n",
              "      <td>False</td>\n",
              "      <td>ADJ</td>\n",
              "      <td>low</td>\n",
              "      <td>False</td>\n",
              "      <td>JJ</td>\n",
              "    </tr>\n",
              "    <tr>\n",
              "      <th>63</th>\n",
              "      <td>cost</td>\n",
              "      <td>False</td>\n",
              "      <td>False</td>\n",
              "      <td>NOUN</td>\n",
              "      <td>cost</td>\n",
              "      <td>False</td>\n",
              "      <td>NN</td>\n",
              "    </tr>\n",
              "    <tr>\n",
              "      <th>64</th>\n",
              "      <td>of</td>\n",
              "      <td>True</td>\n",
              "      <td>False</td>\n",
              "      <td>ADP</td>\n",
              "      <td>of</td>\n",
              "      <td>False</td>\n",
              "      <td>IN</td>\n",
              "    </tr>\n",
              "    <tr>\n",
              "      <th>65</th>\n",
              "      <td>$</td>\n",
              "      <td>False</td>\n",
              "      <td>False</td>\n",
              "      <td>SYM</td>\n",
              "      <td>$</td>\n",
              "      <td>True</td>\n",
              "      <td>$</td>\n",
              "    </tr>\n",
              "    <tr>\n",
              "      <th>66</th>\n",
              "      <td>74</td>\n",
              "      <td>False</td>\n",
              "      <td>False</td>\n",
              "      <td>NUM</td>\n",
              "      <td>74</td>\n",
              "      <td>False</td>\n",
              "      <td>CD</td>\n",
              "    </tr>\n",
              "    <tr>\n",
              "      <th>67</th>\n",
              "      <td>million</td>\n",
              "      <td>False</td>\n",
              "      <td>False</td>\n",
              "      <td>NUM</td>\n",
              "      <td>million</td>\n",
              "      <td>False</td>\n",
              "      <td>CD</td>\n",
              "    </tr>\n",
              "    <tr>\n",
              "      <th>68</th>\n",
              "      <td>.</td>\n",
              "      <td>False</td>\n",
              "      <td>True</td>\n",
              "      <td>PUNCT</td>\n",
              "      <td>.</td>\n",
              "      <td>False</td>\n",
              "      <td>.</td>\n",
              "    </tr>\n",
              "  </tbody>\n",
              "</table>\n",
              "</div>\n",
              "      <button class=\"colab-df-convert\" onclick=\"convertToInteractive('df-f584087e-3e1f-421f-9e98-e807cb211608')\"\n",
              "              title=\"Convert this dataframe to an interactive table.\"\n",
              "              style=\"display:none;\">\n",
              "        \n",
              "  <svg xmlns=\"http://www.w3.org/2000/svg\" height=\"24px\"viewBox=\"0 0 24 24\"\n",
              "       width=\"24px\">\n",
              "    <path d=\"M0 0h24v24H0V0z\" fill=\"none\"/>\n",
              "    <path d=\"M18.56 5.44l.94 2.06.94-2.06 2.06-.94-2.06-.94-.94-2.06-.94 2.06-2.06.94zm-11 1L8.5 8.5l.94-2.06 2.06-.94-2.06-.94L8.5 2.5l-.94 2.06-2.06.94zm10 10l.94 2.06.94-2.06 2.06-.94-2.06-.94-.94-2.06-.94 2.06-2.06.94z\"/><path d=\"M17.41 7.96l-1.37-1.37c-.4-.4-.92-.59-1.43-.59-.52 0-1.04.2-1.43.59L10.3 9.45l-7.72 7.72c-.78.78-.78 2.05 0 2.83L4 21.41c.39.39.9.59 1.41.59.51 0 1.02-.2 1.41-.59l7.78-7.78 2.81-2.81c.8-.78.8-2.07 0-2.86zM5.41 20L4 18.59l7.72-7.72 1.47 1.35L5.41 20z\"/>\n",
              "  </svg>\n",
              "      </button>\n",
              "      \n",
              "  <style>\n",
              "    .colab-df-container {\n",
              "      display:flex;\n",
              "      flex-wrap:wrap;\n",
              "      gap: 12px;\n",
              "    }\n",
              "\n",
              "    .colab-df-convert {\n",
              "      background-color: #E8F0FE;\n",
              "      border: none;\n",
              "      border-radius: 50%;\n",
              "      cursor: pointer;\n",
              "      display: none;\n",
              "      fill: #1967D2;\n",
              "      height: 32px;\n",
              "      padding: 0 0 0 0;\n",
              "      width: 32px;\n",
              "    }\n",
              "\n",
              "    .colab-df-convert:hover {\n",
              "      background-color: #E2EBFA;\n",
              "      box-shadow: 0px 1px 2px rgba(60, 64, 67, 0.3), 0px 1px 3px 1px rgba(60, 64, 67, 0.15);\n",
              "      fill: #174EA6;\n",
              "    }\n",
              "\n",
              "    [theme=dark] .colab-df-convert {\n",
              "      background-color: #3B4455;\n",
              "      fill: #D2E3FC;\n",
              "    }\n",
              "\n",
              "    [theme=dark] .colab-df-convert:hover {\n",
              "      background-color: #434B5C;\n",
              "      box-shadow: 0px 1px 3px 1px rgba(0, 0, 0, 0.15);\n",
              "      filter: drop-shadow(0px 1px 2px rgba(0, 0, 0, 0.3));\n",
              "      fill: #FFFFFF;\n",
              "    }\n",
              "  </style>\n",
              "\n",
              "      <script>\n",
              "        const buttonEl =\n",
              "          document.querySelector('#df-f584087e-3e1f-421f-9e98-e807cb211608 button.colab-df-convert');\n",
              "        buttonEl.style.display =\n",
              "          google.colab.kernel.accessAllowed ? 'block' : 'none';\n",
              "\n",
              "        async function convertToInteractive(key) {\n",
              "          const element = document.querySelector('#df-f584087e-3e1f-421f-9e98-e807cb211608');\n",
              "          const dataTable =\n",
              "            await google.colab.kernel.invokeFunction('convertToInteractive',\n",
              "                                                     [key], {});\n",
              "          if (!dataTable) return;\n",
              "\n",
              "          const docLinkHtml = 'Like what you see? Visit the ' +\n",
              "            '<a target=\"_blank\" href=https://colab.research.google.com/notebooks/data_table.ipynb>data table notebook</a>'\n",
              "            + ' to learn more about interactive tables.';\n",
              "          element.innerHTML = '';\n",
              "          dataTable['output_type'] = 'display_data';\n",
              "          await google.colab.output.renderOutput(dataTable, element);\n",
              "          const docLink = document.createElement('div');\n",
              "          docLink.innerHTML = docLinkHtml;\n",
              "          element.appendChild(docLink);\n",
              "        }\n",
              "      </script>\n",
              "    </div>\n",
              "  </div>\n",
              "  "
            ],
            "text/plain": [
              "          Tokens stop words IS_PUNCTUATION    POS         lemma currency    TAG\n",
              "0            The       True          False    DET           the    False     DT\n",
              "1           Mars      False          False  PROPN          Mars    False    NNP\n",
              "2        Orbiter      False          False  PROPN       Orbiter    False    NNP\n",
              "3        Mission      False          False  PROPN       Mission    False    NNP\n",
              "4              (      False           True  PUNCT             (    False  -LRB-\n",
              "5            MOM      False          False  PROPN           MOM    False    NNP\n",
              "6              )      False           True  PUNCT             )    False  -RRB-\n",
              "7              ,      False           True  PUNCT             ,    False      ,\n",
              "8     informally      False          False    ADV    informally    False     RB\n",
              "9          known      False          False   VERB          know    False    VBN\n",
              "10            as       True          False  SCONJ            as    False     IN\n",
              "11    Mangalyaan      False          False  PROPN    Mangalyaan    False    NNP\n",
              "12             ,      False           True  PUNCT             ,    False      ,\n",
              "13           was       True          False    AUX            be    False    VBD\n",
              "14      launched      False          False   VERB        launch    False    VBN\n",
              "15          into       True          False    ADP          into    False     IN\n",
              "16         Earth      False          False  PROPN         Earth    False    NNP\n",
              "17         orbit      False          False   NOUN         orbit    False     NN\n",
              "18            on       True          False    ADP            on    False     IN\n",
              "19             5      False          False    NUM             5    False     CD\n",
              "20      November      False          False  PROPN      November    False    NNP\n",
              "21          2013      False          False    NUM          2013    False     CD\n",
              "22            by       True          False    ADP            by    False     IN\n",
              "23           the       True          False    DET           the    False     DT\n",
              "24        Indian      False          False  PROPN        Indian    False    NNP\n",
              "25         Space      False          False  PROPN         Space    False    NNP\n",
              "26      Research      False          False  PROPN      Research    False    NNP\n",
              "27  Organisation      False          False  PROPN  Organisation    False    NNP\n",
              "28             (      False           True  PUNCT             (    False  -LRB-\n",
              "29          ISRO      False          False  PROPN          ISRO    False    NNP\n",
              "30             )      False           True  PUNCT             )    False  -RRB-\n",
              "31           and       True          False  CCONJ           and    False     CC\n",
              "32           has       True          False    AUX          have    False    VBZ\n",
              "33       entered      False          False   VERB         enter    False    VBN\n",
              "34          Mars      False          False  PROPN          Mars    False    NNP\n",
              "35         orbit      False          False   NOUN         orbit    False     NN\n",
              "36            on       True          False    ADP            on    False     IN\n",
              "37            24      False          False    NUM            24    False     CD\n",
              "38     September      False          False  PROPN     September    False    NNP\n",
              "39          2014      False          False    NUM          2014    False     CD\n",
              "40             .      False           True  PUNCT             .    False      .\n",
              "41         India      False          False  PROPN         India    False    NNP\n",
              "42          thus       True          False    ADV          thus    False     RB\n",
              "43        became       True          False   VERB        become    False    VBD\n",
              "44           the       True          False    DET           the    False     DT\n",
              "45         first       True          False    ADJ         first    False     JJ\n",
              "46       country      False          False   NOUN       country    False     NN\n",
              "47            to       True          False   PART            to    False     TO\n",
              "48         enter      False          False   VERB         enter    False     VB\n",
              "49          Mars      False          False  PROPN          Mars    False    NNP\n",
              "50         orbit      False          False   NOUN         orbit    False     NN\n",
              "51            on       True          False    ADP            on    False     IN\n",
              "52           its       True          False    DET        -PRON-    False   PRP$\n",
              "53         first       True          False    ADJ         first    False     JJ\n",
              "54       attempt      False          False   NOUN       attempt    False     NN\n",
              "55             .      False           True  PUNCT             .    False      .\n",
              "56            It       True          False   PRON        -PRON-    False    PRP\n",
              "57           was       True          False    AUX            be    False    VBD\n",
              "58     completed      False          False   VERB      complete    False    VBN\n",
              "59            at       True          False    ADP            at    False     IN\n",
              "60             a       True          False    DET             a    False     DT\n",
              "61        record      False          False   NOUN        record    False     NN\n",
              "62           low      False          False    ADJ           low    False     JJ\n",
              "63          cost      False          False   NOUN          cost    False     NN\n",
              "64            of       True          False    ADP            of    False     IN\n",
              "65             $      False          False    SYM             $     True      $\n",
              "66            74      False          False    NUM            74    False     CD\n",
              "67       million      False          False    NUM       million    False     CD\n",
              "68             .      False           True  PUNCT             .    False      ."
            ]
          },
          "metadata": {},
          "execution_count": 18
        }
      ]
    },
    {
      "cell_type": "code",
      "source": [
        "veg = ['carrot', 'cabbage', 'banana']\n",
        "\n",
        "for i in veg:\n",
        "  print(i)"
      ],
      "metadata": {
        "colab": {
          "base_uri": "https://localhost:8080/"
        },
        "id": "gGW6JkhkARiB",
        "outputId": "f1e15cda-7ae6-4256-e061-5f912c5fba21"
      },
      "execution_count": null,
      "outputs": [
        {
          "output_type": "stream",
          "name": "stdout",
          "text": [
            "carrot\n",
            "cabbage\n",
            "banana\n"
          ]
        }
      ]
    },
    {
      "cell_type": "code",
      "source": [
        "# what is happening in enumerate? which is shortcut to return index no. and element no. ina tuple\n",
        "\n",
        "for i in enumerate(veg):\n",
        "  print(i)"
      ],
      "metadata": {
        "colab": {
          "base_uri": "https://localhost:8080/"
        },
        "id": "DMt08MdtAgyw",
        "outputId": "1518df03-4c72-4fef-bb27-fbda493cd967"
      },
      "execution_count": null,
      "outputs": [
        {
          "output_type": "stream",
          "name": "stdout",
          "text": [
            "(0, 'carrot')\n",
            "(1, 'cabbage')\n",
            "(2, 'banana')\n"
          ]
        }
      ]
    },
    {
      "cell_type": "markdown",
      "source": [
        "![image.png](data:image/png;base64,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)!"
      ],
      "metadata": {
        "id": "kfLbUgglCoHk"
      }
    },
    {
      "cell_type": "code",
      "source": [
        "from spacy import displacy"
      ],
      "metadata": {
        "id": "p0uslQ0NDoev"
      },
      "execution_count": null,
      "outputs": []
    },
    {
      "cell_type": "code",
      "source": [
        "displacy.render(docy, style = \"ent\", jupyter = True)"
      ],
      "metadata": {
        "colab": {
          "base_uri": "https://localhost:8080/",
          "height": 157
        },
        "id": "dPKo92d8OVnM",
        "outputId": "58ef90b1-2227-4ed7-997e-7057be67e4c5"
      },
      "execution_count": null,
      "outputs": [
        {
          "output_type": "display_data",
          "data": {
            "text/html": [
              "<span class=\"tex2jax_ignore\"><div class=\"entities\" style=\"line-height: 2.5; direction: ltr\">\n",
              "<mark class=\"entity\" style=\"background: #7aecec; padding: 0.45em 0.6em; margin: 0 0.25em; line-height: 1; border-radius: 0.35em;\">\n",
              "    The Mars Orbiter Mission\n",
              "    <span style=\"font-size: 0.8em; font-weight: bold; line-height: 1; border-radius: 0.35em; text-transform: uppercase; vertical-align: middle; margin-left: 0.5rem\">ORG</span>\n",
              "</mark>\n",
              " (MOM), informally known as \n",
              "<mark class=\"entity\" style=\"background: #feca74; padding: 0.45em 0.6em; margin: 0 0.25em; line-height: 1; border-radius: 0.35em;\">\n",
              "    Mangalyaan\n",
              "    <span style=\"font-size: 0.8em; font-weight: bold; line-height: 1; border-radius: 0.35em; text-transform: uppercase; vertical-align: middle; margin-left: 0.5rem\">GPE</span>\n",
              "</mark>\n",
              ", was launched into \n",
              "<mark class=\"entity\" style=\"background: #ff9561; padding: 0.45em 0.6em; margin: 0 0.25em; line-height: 1; border-radius: 0.35em;\">\n",
              "    Earth\n",
              "    <span style=\"font-size: 0.8em; font-weight: bold; line-height: 1; border-radius: 0.35em; text-transform: uppercase; vertical-align: middle; margin-left: 0.5rem\">LOC</span>\n",
              "</mark>\n",
              " orbit on \n",
              "<mark class=\"entity\" style=\"background: #bfe1d9; padding: 0.45em 0.6em; margin: 0 0.25em; line-height: 1; border-radius: 0.35em;\">\n",
              "    5 November 2013\n",
              "    <span style=\"font-size: 0.8em; font-weight: bold; line-height: 1; border-radius: 0.35em; text-transform: uppercase; vertical-align: middle; margin-left: 0.5rem\">DATE</span>\n",
              "</mark>\n",
              " by \n",
              "<mark class=\"entity\" style=\"background: #7aecec; padding: 0.45em 0.6em; margin: 0 0.25em; line-height: 1; border-radius: 0.35em;\">\n",
              "    the Indian Space Research Organisation\n",
              "    <span style=\"font-size: 0.8em; font-weight: bold; line-height: 1; border-radius: 0.35em; text-transform: uppercase; vertical-align: middle; margin-left: 0.5rem\">ORG</span>\n",
              "</mark>\n",
              " (\n",
              "<mark class=\"entity\" style=\"background: #7aecec; padding: 0.45em 0.6em; margin: 0 0.25em; line-height: 1; border-radius: 0.35em;\">\n",
              "    ISRO\n",
              "    <span style=\"font-size: 0.8em; font-weight: bold; line-height: 1; border-radius: 0.35em; text-transform: uppercase; vertical-align: middle; margin-left: 0.5rem\">ORG</span>\n",
              "</mark>\n",
              ") and has entered \n",
              "<mark class=\"entity\" style=\"background: #ff9561; padding: 0.45em 0.6em; margin: 0 0.25em; line-height: 1; border-radius: 0.35em;\">\n",
              "    Mars\n",
              "    <span style=\"font-size: 0.8em; font-weight: bold; line-height: 1; border-radius: 0.35em; text-transform: uppercase; vertical-align: middle; margin-left: 0.5rem\">LOC</span>\n",
              "</mark>\n",
              " orbit on \n",
              "<mark class=\"entity\" style=\"background: #bfe1d9; padding: 0.45em 0.6em; margin: 0 0.25em; line-height: 1; border-radius: 0.35em;\">\n",
              "    24 September 2014\n",
              "    <span style=\"font-size: 0.8em; font-weight: bold; line-height: 1; border-radius: 0.35em; text-transform: uppercase; vertical-align: middle; margin-left: 0.5rem\">DATE</span>\n",
              "</mark>\n",
              ". \n",
              "<mark class=\"entity\" style=\"background: #feca74; padding: 0.45em 0.6em; margin: 0 0.25em; line-height: 1; border-radius: 0.35em;\">\n",
              "    India\n",
              "    <span style=\"font-size: 0.8em; font-weight: bold; line-height: 1; border-radius: 0.35em; text-transform: uppercase; vertical-align: middle; margin-left: 0.5rem\">GPE</span>\n",
              "</mark>\n",
              " thus became the \n",
              "<mark class=\"entity\" style=\"background: #e4e7d2; padding: 0.45em 0.6em; margin: 0 0.25em; line-height: 1; border-radius: 0.35em;\">\n",
              "    first\n",
              "    <span style=\"font-size: 0.8em; font-weight: bold; line-height: 1; border-radius: 0.35em; text-transform: uppercase; vertical-align: middle; margin-left: 0.5rem\">ORDINAL</span>\n",
              "</mark>\n",
              " country to enter \n",
              "<mark class=\"entity\" style=\"background: #ff9561; padding: 0.45em 0.6em; margin: 0 0.25em; line-height: 1; border-radius: 0.35em;\">\n",
              "    Mars\n",
              "    <span style=\"font-size: 0.8em; font-weight: bold; line-height: 1; border-radius: 0.35em; text-transform: uppercase; vertical-align: middle; margin-left: 0.5rem\">LOC</span>\n",
              "</mark>\n",
              " orbit on its \n",
              "<mark class=\"entity\" style=\"background: #e4e7d2; padding: 0.45em 0.6em; margin: 0 0.25em; line-height: 1; border-radius: 0.35em;\">\n",
              "    first\n",
              "    <span style=\"font-size: 0.8em; font-weight: bold; line-height: 1; border-radius: 0.35em; text-transform: uppercase; vertical-align: middle; margin-left: 0.5rem\">ORDINAL</span>\n",
              "</mark>\n",
              " attempt. It was completed at a record low cost of \n",
              "<mark class=\"entity\" style=\"background: #e4e7d2; padding: 0.45em 0.6em; margin: 0 0.25em; line-height: 1; border-radius: 0.35em;\">\n",
              "    $74 million\n",
              "    <span style=\"font-size: 0.8em; font-weight: bold; line-height: 1; border-radius: 0.35em; text-transform: uppercase; vertical-align: middle; margin-left: 0.5rem\">MONEY</span>\n",
              "</mark>\n",
              ".</div></span>"
            ],
            "text/plain": [
              "<IPython.core.display.HTML object>"
            ]
          },
          "metadata": {}
        }
      ]
    },
    {
      "cell_type": "code",
      "source": [
        "for token in docy.ents:\n",
        "  print(token.text, token.label_)"
      ],
      "metadata": {
        "colab": {
          "base_uri": "https://localhost:8080/"
        },
        "id": "HLZsagfPOhuD",
        "outputId": "776025e9-ba44-465a-d204-7444a00f709f"
      },
      "execution_count": null,
      "outputs": [
        {
          "output_type": "stream",
          "name": "stdout",
          "text": [
            "The Mars Orbiter Mission ORG\n",
            "Mangalyaan GPE\n",
            "Earth LOC\n",
            "5 November 2013 DATE\n",
            "the Indian Space Research Organisation ORG\n",
            "ISRO ORG\n",
            "Mars LOC\n",
            "24 September 2014 DATE\n",
            "India GPE\n",
            "first ORDINAL\n",
            "Mars LOC\n",
            "first ORDINAL\n",
            "$74 million MONEY\n"
          ]
        }
      ]
    },
    {
      "cell_type": "code",
      "source": [
        "text = \"Mohandas Karamchand Gandhi, more commonly known as ‘Mahatma’ (meaning ‘Great Soul’) was born in Porbandar, Gujarat, in North West India, on 2nd October 1869, into a Hindu Modh family. His father was the Chief Minister of Porbandar, and his mother’s religious devotion meant that his upbringing was infused with the Jain pacifist teachings of mutual tolerance, non-injury to living beings and vegetarianism. Born into a privileged caste, Gandhi was fortunate to receive a comprehensive education, but proved a mediocre student. In May 1883, aged 13, Gandhi was married to Kasturba Makhanji, a girl also aged 13, through the arrangement of their respective parents, as is customary in India. Following his entry into Samaldas College, at the University of Bombay, she bore him the first of four sons, in 1888. Gandhi was unhappy at college, following his parent’s wishes to take the bar, and when he was offered the opportunity of furthering his studies overseas, at University College London, aged 18, he accepted with alacrity, starting there in September 1888.\"\n",
        "#text = \"Welcome to the India Pavilion at Expo 2020 Dubai.This is a historic Expo.It is the first oneto be held in the Middle East,Africa and South Asia region.India is participating with one of the largest pavilions in the Expo. I am sure the Expo will go a long way in further building our deep and historical relations with UAE, and with Dubai.Let me begin by conveying greetings on behalf of Government and people of India to His Highness Sheikh Khalifa bin Zayed bin \"   \n",
        "print(text)"
      ],
      "metadata": {
        "colab": {
          "base_uri": "https://localhost:8080/"
        },
        "id": "LtarCT3SS0Yz",
        "outputId": "fc9048d5-661b-4fa7-8531-d01bb58c79fa"
      },
      "execution_count": null,
      "outputs": [
        {
          "output_type": "stream",
          "name": "stdout",
          "text": [
            "Mohandas Karamchand Gandhi, more commonly known as ‘Mahatma’ (meaning ‘Great Soul’) was born in Porbandar, Gujarat, in North West India, on 2nd October 1869, into a Hindu Modh family. His father was the Chief Minister of Porbandar, and his mother’s religious devotion meant that his upbringing was infused with the Jain pacifist teachings of mutual tolerance, non-injury to living beings and vegetarianism. Born into a privileged caste, Gandhi was fortunate to receive a comprehensive education, but proved a mediocre student. In May 1883, aged 13, Gandhi was married to Kasturba Makhanji, a girl also aged 13, through the arrangement of their respective parents, as is customary in India. Following his entry into Samaldas College, at the University of Bombay, she bore him the first of four sons, in 1888. Gandhi was unhappy at college, following his parent’s wishes to take the bar, and when he was offered the opportunity of furthering his studies overseas, at University College London, aged 18, he accepted with alacrity, starting there in September 1888.\n"
          ]
        }
      ]
    },
    {
      "cell_type": "code",
      "source": [
        "doc = nlp(text)"
      ],
      "metadata": {
        "id": "mWeKc8BRS3KW"
      },
      "execution_count": null,
      "outputs": []
    },
    {
      "cell_type": "code",
      "source": [
        "for token in doc.ents:\n",
        "  print(token.text, token.label_)"
      ],
      "metadata": {
        "colab": {
          "base_uri": "https://localhost:8080/"
        },
        "id": "I9j0ETcOS8V1",
        "outputId": "fabc11a3-5afe-4942-df08-68cc8ecb6b23"
      },
      "execution_count": null,
      "outputs": [
        {
          "output_type": "stream",
          "name": "stdout",
          "text": [
            "Mohandas Karamchand Gandhi PERSON\n",
            "Mahatma PERSON\n",
            "Porbandar GPE\n",
            "Gujarat GPE\n",
            "North West India GPE\n",
            "2nd October 1869 DATE\n",
            "Hindu NORP\n",
            "Porbandar PERSON\n",
            "Gandhi PERSON\n",
            "May 1883 DATE\n",
            "aged 13 DATE\n",
            "Gandhi PERSON\n",
            "Kasturba Makhanji PERSON\n",
            "13 DATE\n",
            "India GPE\n",
            "Samaldas College ORG\n",
            "the University of Bombay ORG\n",
            "first ORDINAL\n",
            "four CARDINAL\n",
            "1888 DATE\n",
            "Gandhi PERSON\n",
            "University College London ORG\n",
            "18 DATE\n",
            "September 1888 DATE\n"
          ]
        }
      ]
    },
    {
      "cell_type": "markdown",
      "source": [
        "***Vectorization of your text data***"
      ],
      "metadata": {
        "id": "T9hAZwyuTAjL"
      }
    },
    {
      "cell_type": "code",
      "source": [
        "!wget https://www.dropbox.com/s/dctsk9k67x2jgnb/imdb_labelled.txt"
      ],
      "metadata": {
        "colab": {
          "base_uri": "https://localhost:8080/"
        },
        "id": "VdIhD3PGUy_q",
        "outputId": "41e465e7-0065-49f6-b80d-2798185c281a"
      },
      "execution_count": null,
      "outputs": [
        {
          "output_type": "stream",
          "name": "stdout",
          "text": [
            "--2022-01-01 12:45:10--  https://www.dropbox.com/s/dctsk9k67x2jgnb/imdb_labelled.txt\n",
            "Resolving www.dropbox.com (www.dropbox.com)... 162.125.2.18, 2620:100:6022:18::a27d:4212\n",
            "Connecting to www.dropbox.com (www.dropbox.com)|162.125.2.18|:443... connected.\n",
            "HTTP request sent, awaiting response... 301 Moved Permanently\n",
            "Location: /s/raw/dctsk9k67x2jgnb/imdb_labelled.txt [following]\n",
            "--2022-01-01 12:45:10--  https://www.dropbox.com/s/raw/dctsk9k67x2jgnb/imdb_labelled.txt\n",
            "Reusing existing connection to www.dropbox.com:443.\n",
            "HTTP request sent, awaiting response... 302 Found\n",
            "Location: https://uc0c4a6a8a731f4c907be95a5e2b.dl.dropboxusercontent.com/cd/0/inline/Bc9bDP9xfs4hUon1MZujb9S7Ftf9kAivQxWSiNYQy-LgJLa1zy_2HzNTQ15OkGE2BrLK8CWsOmgE73KFP8vM7-3nFbQU1gVh6ffkIenZ1U2XAvg5PHcD2Wk-2p_5ZLjt1X5c0fvRmhuVmR71OHBdDSm4/file# [following]\n",
            "--2022-01-01 12:45:10--  https://uc0c4a6a8a731f4c907be95a5e2b.dl.dropboxusercontent.com/cd/0/inline/Bc9bDP9xfs4hUon1MZujb9S7Ftf9kAivQxWSiNYQy-LgJLa1zy_2HzNTQ15OkGE2BrLK8CWsOmgE73KFP8vM7-3nFbQU1gVh6ffkIenZ1U2XAvg5PHcD2Wk-2p_5ZLjt1X5c0fvRmhuVmR71OHBdDSm4/file\n",
            "Resolving uc0c4a6a8a731f4c907be95a5e2b.dl.dropboxusercontent.com (uc0c4a6a8a731f4c907be95a5e2b.dl.dropboxusercontent.com)... 162.125.2.15, 2620:100:6017:15::a27d:20f\n",
            "Connecting to uc0c4a6a8a731f4c907be95a5e2b.dl.dropboxusercontent.com (uc0c4a6a8a731f4c907be95a5e2b.dl.dropboxusercontent.com)|162.125.2.15|:443... connected.\n",
            "HTTP request sent, awaiting response... 200 OK\n",
            "Length: 85285 (83K) [text/plain]\n",
            "Saving to: ‘imdb_labelled.txt’\n",
            "\n",
            "imdb_labelled.txt   100%[===================>]  83.29K  --.-KB/s    in 0.05s   \n",
            "\n",
            "2022-01-01 12:45:10 (1.71 MB/s) - ‘imdb_labelled.txt’ saved [85285/85285]\n",
            "\n"
          ]
        }
      ]
    },
    {
      "cell_type": "code",
      "source": [
        "import pandas as pd"
      ],
      "metadata": {
        "id": "PPyeoclEK-4M"
      },
      "execution_count": null,
      "outputs": []
    },
    {
      "cell_type": "code",
      "source": [
        "# create a dataframe of .txt file\n",
        "# rename the columns as 'Review', 'sentiment'\n",
        "\n",
        "df = pd.read_csv(\"/content/imdb_labelled.txt\", sep='\\t', header=None)\n",
        "df.head()"
      ],
      "metadata": {
        "colab": {
          "base_uri": "https://localhost:8080/",
          "height": 267
        },
        "id": "l5sj-b3oG2mS",
        "outputId": "0e8c1cf4-495e-49bc-e6e5-8bb39d38ff59"
      },
      "execution_count": null,
      "outputs": [
        {
          "output_type": "execute_result",
          "data": {
            "text/html": [
              "\n",
              "  <div id=\"df-2ec6e0b5-65fa-4114-86e2-cd8332bde478\">\n",
              "    <div class=\"colab-df-container\">\n",
              "      <div>\n",
              "<style scoped>\n",
              "    .dataframe tbody tr th:only-of-type {\n",
              "        vertical-align: middle;\n",
              "    }\n",
              "\n",
              "    .dataframe tbody tr th {\n",
              "        vertical-align: top;\n",
              "    }\n",
              "\n",
              "    .dataframe thead th {\n",
              "        text-align: right;\n",
              "    }\n",
              "</style>\n",
              "<table border=\"1\" class=\"dataframe\">\n",
              "  <thead>\n",
              "    <tr style=\"text-align: right;\">\n",
              "      <th></th>\n",
              "      <th>0</th>\n",
              "      <th>1</th>\n",
              "    </tr>\n",
              "  </thead>\n",
              "  <tbody>\n",
              "    <tr>\n",
              "      <th>0</th>\n",
              "      <td>A very, very, very slow-moving, aimless movie about a distressed, drifting young man.</td>\n",
              "      <td>0</td>\n",
              "    </tr>\n",
              "    <tr>\n",
              "      <th>1</th>\n",
              "      <td>Not sure who was more lost - the flat characters or the audience, nearly half of whom walked out.</td>\n",
              "      <td>0</td>\n",
              "    </tr>\n",
              "    <tr>\n",
              "      <th>2</th>\n",
              "      <td>Attempting artiness with black &amp; white and clever camera angles, the movie disappointed - became even more ridiculous - as the acting was poor and the plot and lines almost non-existent.</td>\n",
              "      <td>0</td>\n",
              "    </tr>\n",
              "    <tr>\n",
              "      <th>3</th>\n",
              "      <td>Very little music or anything to speak of.</td>\n",
              "      <td>0</td>\n",
              "    </tr>\n",
              "    <tr>\n",
              "      <th>4</th>\n",
              "      <td>The best scene in the movie was when Gerardo is trying to find a song that keeps running through his head.</td>\n",
              "      <td>1</td>\n",
              "    </tr>\n",
              "  </tbody>\n",
              "</table>\n",
              "</div>\n",
              "      <button class=\"colab-df-convert\" onclick=\"convertToInteractive('df-2ec6e0b5-65fa-4114-86e2-cd8332bde478')\"\n",
              "              title=\"Convert this dataframe to an interactive table.\"\n",
              "              style=\"display:none;\">\n",
              "        \n",
              "  <svg xmlns=\"http://www.w3.org/2000/svg\" height=\"24px\"viewBox=\"0 0 24 24\"\n",
              "       width=\"24px\">\n",
              "    <path d=\"M0 0h24v24H0V0z\" fill=\"none\"/>\n",
              "    <path d=\"M18.56 5.44l.94 2.06.94-2.06 2.06-.94-2.06-.94-.94-2.06-.94 2.06-2.06.94zm-11 1L8.5 8.5l.94-2.06 2.06-.94-2.06-.94L8.5 2.5l-.94 2.06-2.06.94zm10 10l.94 2.06.94-2.06 2.06-.94-2.06-.94-.94-2.06-.94 2.06-2.06.94z\"/><path d=\"M17.41 7.96l-1.37-1.37c-.4-.4-.92-.59-1.43-.59-.52 0-1.04.2-1.43.59L10.3 9.45l-7.72 7.72c-.78.78-.78 2.05 0 2.83L4 21.41c.39.39.9.59 1.41.59.51 0 1.02-.2 1.41-.59l7.78-7.78 2.81-2.81c.8-.78.8-2.07 0-2.86zM5.41 20L4 18.59l7.72-7.72 1.47 1.35L5.41 20z\"/>\n",
              "  </svg>\n",
              "      </button>\n",
              "      \n",
              "  <style>\n",
              "    .colab-df-container {\n",
              "      display:flex;\n",
              "      flex-wrap:wrap;\n",
              "      gap: 12px;\n",
              "    }\n",
              "\n",
              "    .colab-df-convert {\n",
              "      background-color: #E8F0FE;\n",
              "      border: none;\n",
              "      border-radius: 50%;\n",
              "      cursor: pointer;\n",
              "      display: none;\n",
              "      fill: #1967D2;\n",
              "      height: 32px;\n",
              "      padding: 0 0 0 0;\n",
              "      width: 32px;\n",
              "    }\n",
              "\n",
              "    .colab-df-convert:hover {\n",
              "      background-color: #E2EBFA;\n",
              "      box-shadow: 0px 1px 2px rgba(60, 64, 67, 0.3), 0px 1px 3px 1px rgba(60, 64, 67, 0.15);\n",
              "      fill: #174EA6;\n",
              "    }\n",
              "\n",
              "    [theme=dark] .colab-df-convert {\n",
              "      background-color: #3B4455;\n",
              "      fill: #D2E3FC;\n",
              "    }\n",
              "\n",
              "    [theme=dark] .colab-df-convert:hover {\n",
              "      background-color: #434B5C;\n",
              "      box-shadow: 0px 1px 3px 1px rgba(0, 0, 0, 0.15);\n",
              "      filter: drop-shadow(0px 1px 2px rgba(0, 0, 0, 0.3));\n",
              "      fill: #FFFFFF;\n",
              "    }\n",
              "  </style>\n",
              "\n",
              "      <script>\n",
              "        const buttonEl =\n",
              "          document.querySelector('#df-2ec6e0b5-65fa-4114-86e2-cd8332bde478 button.colab-df-convert');\n",
              "        buttonEl.style.display =\n",
              "          google.colab.kernel.accessAllowed ? 'block' : 'none';\n",
              "\n",
              "        async function convertToInteractive(key) {\n",
              "          const element = document.querySelector('#df-2ec6e0b5-65fa-4114-86e2-cd8332bde478');\n",
              "          const dataTable =\n",
              "            await google.colab.kernel.invokeFunction('convertToInteractive',\n",
              "                                                     [key], {});\n",
              "          if (!dataTable) return;\n",
              "\n",
              "          const docLinkHtml = 'Like what you see? Visit the ' +\n",
              "            '<a target=\"_blank\" href=https://colab.research.google.com/notebooks/data_table.ipynb>data table notebook</a>'\n",
              "            + ' to learn more about interactive tables.';\n",
              "          element.innerHTML = '';\n",
              "          dataTable['output_type'] = 'display_data';\n",
              "          await google.colab.output.renderOutput(dataTable, element);\n",
              "          const docLink = document.createElement('div');\n",
              "          docLink.innerHTML = docLinkHtml;\n",
              "          element.appendChild(docLink);\n",
              "        }\n",
              "      </script>\n",
              "    </div>\n",
              "  </div>\n",
              "  "
            ],
            "text/plain": [
              "                                                                                                                                                                                              0  1\n",
              "0                                                                                                       A very, very, very slow-moving, aimless movie about a distressed, drifting young man.    0\n",
              "1                                                                                           Not sure who was more lost - the flat characters or the audience, nearly half of whom walked out.    0\n",
              "2  Attempting artiness with black & white and clever camera angles, the movie disappointed - became even more ridiculous - as the acting was poor and the plot and lines almost non-existent.    0\n",
              "3                                                                                                                                                  Very little music or anything to speak of.    0\n",
              "4                                                                                  The best scene in the movie was when Gerardo is trying to find a song that keeps running through his head.    1"
            ]
          },
          "metadata": {},
          "execution_count": 29
        }
      ]
    },
    {
      "cell_type": "code",
      "source": [
        "df.columns = ['Review', 'Sentiment']\n",
        "df.head()"
      ],
      "metadata": {
        "colab": {
          "base_uri": "https://localhost:8080/",
          "height": 267
        },
        "id": "-QLAQSfXLbRC",
        "outputId": "51f102c0-419a-4f0f-9214-4de8ccdb3e2a"
      },
      "execution_count": null,
      "outputs": [
        {
          "output_type": "execute_result",
          "data": {
            "text/html": [
              "\n",
              "  <div id=\"df-04091f10-90da-4a46-86d3-73b1cfa589ac\">\n",
              "    <div class=\"colab-df-container\">\n",
              "      <div>\n",
              "<style scoped>\n",
              "    .dataframe tbody tr th:only-of-type {\n",
              "        vertical-align: middle;\n",
              "    }\n",
              "\n",
              "    .dataframe tbody tr th {\n",
              "        vertical-align: top;\n",
              "    }\n",
              "\n",
              "    .dataframe thead th {\n",
              "        text-align: right;\n",
              "    }\n",
              "</style>\n",
              "<table border=\"1\" class=\"dataframe\">\n",
              "  <thead>\n",
              "    <tr style=\"text-align: right;\">\n",
              "      <th></th>\n",
              "      <th>Review</th>\n",
              "      <th>Sentiment</th>\n",
              "    </tr>\n",
              "  </thead>\n",
              "  <tbody>\n",
              "    <tr>\n",
              "      <th>0</th>\n",
              "      <td>A very, very, very slow-moving, aimless movie about a distressed, drifting young man.</td>\n",
              "      <td>0</td>\n",
              "    </tr>\n",
              "    <tr>\n",
              "      <th>1</th>\n",
              "      <td>Not sure who was more lost - the flat characters or the audience, nearly half of whom walked out.</td>\n",
              "      <td>0</td>\n",
              "    </tr>\n",
              "    <tr>\n",
              "      <th>2</th>\n",
              "      <td>Attempting artiness with black &amp; white and clever camera angles, the movie disappointed - became even more ridiculous - as the acting was poor and the plot and lines almost non-existent.</td>\n",
              "      <td>0</td>\n",
              "    </tr>\n",
              "    <tr>\n",
              "      <th>3</th>\n",
              "      <td>Very little music or anything to speak of.</td>\n",
              "      <td>0</td>\n",
              "    </tr>\n",
              "    <tr>\n",
              "      <th>4</th>\n",
              "      <td>The best scene in the movie was when Gerardo is trying to find a song that keeps running through his head.</td>\n",
              "      <td>1</td>\n",
              "    </tr>\n",
              "  </tbody>\n",
              "</table>\n",
              "</div>\n",
              "      <button class=\"colab-df-convert\" onclick=\"convertToInteractive('df-04091f10-90da-4a46-86d3-73b1cfa589ac')\"\n",
              "              title=\"Convert this dataframe to an interactive table.\"\n",
              "              style=\"display:none;\">\n",
              "        \n",
              "  <svg xmlns=\"http://www.w3.org/2000/svg\" height=\"24px\"viewBox=\"0 0 24 24\"\n",
              "       width=\"24px\">\n",
              "    <path d=\"M0 0h24v24H0V0z\" fill=\"none\"/>\n",
              "    <path d=\"M18.56 5.44l.94 2.06.94-2.06 2.06-.94-2.06-.94-.94-2.06-.94 2.06-2.06.94zm-11 1L8.5 8.5l.94-2.06 2.06-.94-2.06-.94L8.5 2.5l-.94 2.06-2.06.94zm10 10l.94 2.06.94-2.06 2.06-.94-2.06-.94-.94-2.06-.94 2.06-2.06.94z\"/><path d=\"M17.41 7.96l-1.37-1.37c-.4-.4-.92-.59-1.43-.59-.52 0-1.04.2-1.43.59L10.3 9.45l-7.72 7.72c-.78.78-.78 2.05 0 2.83L4 21.41c.39.39.9.59 1.41.59.51 0 1.02-.2 1.41-.59l7.78-7.78 2.81-2.81c.8-.78.8-2.07 0-2.86zM5.41 20L4 18.59l7.72-7.72 1.47 1.35L5.41 20z\"/>\n",
              "  </svg>\n",
              "      </button>\n",
              "      \n",
              "  <style>\n",
              "    .colab-df-container {\n",
              "      display:flex;\n",
              "      flex-wrap:wrap;\n",
              "      gap: 12px;\n",
              "    }\n",
              "\n",
              "    .colab-df-convert {\n",
              "      background-color: #E8F0FE;\n",
              "      border: none;\n",
              "      border-radius: 50%;\n",
              "      cursor: pointer;\n",
              "      display: none;\n",
              "      fill: #1967D2;\n",
              "      height: 32px;\n",
              "      padding: 0 0 0 0;\n",
              "      width: 32px;\n",
              "    }\n",
              "\n",
              "    .colab-df-convert:hover {\n",
              "      background-color: #E2EBFA;\n",
              "      box-shadow: 0px 1px 2px rgba(60, 64, 67, 0.3), 0px 1px 3px 1px rgba(60, 64, 67, 0.15);\n",
              "      fill: #174EA6;\n",
              "    }\n",
              "\n",
              "    [theme=dark] .colab-df-convert {\n",
              "      background-color: #3B4455;\n",
              "      fill: #D2E3FC;\n",
              "    }\n",
              "\n",
              "    [theme=dark] .colab-df-convert:hover {\n",
              "      background-color: #434B5C;\n",
              "      box-shadow: 0px 1px 3px 1px rgba(0, 0, 0, 0.15);\n",
              "      filter: drop-shadow(0px 1px 2px rgba(0, 0, 0, 0.3));\n",
              "      fill: #FFFFFF;\n",
              "    }\n",
              "  </style>\n",
              "\n",
              "      <script>\n",
              "        const buttonEl =\n",
              "          document.querySelector('#df-04091f10-90da-4a46-86d3-73b1cfa589ac button.colab-df-convert');\n",
              "        buttonEl.style.display =\n",
              "          google.colab.kernel.accessAllowed ? 'block' : 'none';\n",
              "\n",
              "        async function convertToInteractive(key) {\n",
              "          const element = document.querySelector('#df-04091f10-90da-4a46-86d3-73b1cfa589ac');\n",
              "          const dataTable =\n",
              "            await google.colab.kernel.invokeFunction('convertToInteractive',\n",
              "                                                     [key], {});\n",
              "          if (!dataTable) return;\n",
              "\n",
              "          const docLinkHtml = 'Like what you see? Visit the ' +\n",
              "            '<a target=\"_blank\" href=https://colab.research.google.com/notebooks/data_table.ipynb>data table notebook</a>'\n",
              "            + ' to learn more about interactive tables.';\n",
              "          element.innerHTML = '';\n",
              "          dataTable['output_type'] = 'display_data';\n",
              "          await google.colab.output.renderOutput(dataTable, element);\n",
              "          const docLink = document.createElement('div');\n",
              "          docLink.innerHTML = docLinkHtml;\n",
              "          element.appendChild(docLink);\n",
              "        }\n",
              "      </script>\n",
              "    </div>\n",
              "  </div>\n",
              "  "
            ],
            "text/plain": [
              "                                                                                                                                                                                         Review  Sentiment\n",
              "0                                                                                                       A very, very, very slow-moving, aimless movie about a distressed, drifting young man.            0\n",
              "1                                                                                           Not sure who was more lost - the flat characters or the audience, nearly half of whom walked out.            0\n",
              "2  Attempting artiness with black & white and clever camera angles, the movie disappointed - became even more ridiculous - as the acting was poor and the plot and lines almost non-existent.            0\n",
              "3                                                                                                                                                  Very little music or anything to speak of.            0\n",
              "4                                                                                  The best scene in the movie was when Gerardo is trying to find a song that keeps running through his head.            1"
            ]
          },
          "metadata": {},
          "execution_count": 30
        }
      ]
    },
    {
      "cell_type": "code",
      "source": [
        "nlp = spacy.load(\"en_core_web_sm\")"
      ],
      "metadata": {
        "id": "7DWJLrsxMRSH"
      },
      "execution_count": null,
      "outputs": []
    },
    {
      "cell_type": "code",
      "source": [
        "text = df['Review'][1]\n",
        "text"
      ],
      "metadata": {
        "colab": {
          "base_uri": "https://localhost:8080/",
          "height": 35
        },
        "id": "Q2yH0lm9Qy1D",
        "outputId": "6683d15b-347b-4445-e541-921e0fb6cb76"
      },
      "execution_count": null,
      "outputs": [
        {
          "output_type": "execute_result",
          "data": {
            "application/vnd.google.colaboratory.intrinsic+json": {
              "type": "string"
            },
            "text/plain": [
              "'Not sure who was more lost - the flat characters or the audience, nearly half of whom walked out.  '"
            ]
          },
          "metadata": {},
          "execution_count": 108
        }
      ]
    },
    {
      "cell_type": "code",
      "source": [
        "doct = nlp(text)\n",
        "\n",
        "for token in doct:\n",
        "  print(token.text)"
      ],
      "metadata": {
        "colab": {
          "base_uri": "https://localhost:8080/"
        },
        "collapsed": true,
        "id": "yiiOv88ZbgZh",
        "outputId": "a45ccc9b-c6ba-44d4-b580-3e7eef6ce939"
      },
      "execution_count": null,
      "outputs": [
        {
          "output_type": "stream",
          "name": "stdout",
          "text": [
            "Not\n",
            "sure\n",
            "who\n",
            "was\n",
            "more\n",
            "lost\n",
            "-\n",
            "the\n",
            "flat\n",
            "characters\n",
            "or\n",
            "the\n",
            "audience\n",
            ",\n",
            "nearly\n",
            "half\n",
            "of\n",
            "whom\n",
            "walked\n",
            "out\n",
            ".\n",
            " \n"
          ]
        }
      ]
    },
    {
      "cell_type": "markdown",
      "source": [
        "### remove the stop words & the punctuations from the list of token\n"
      ],
      "metadata": {
        "id": "lk-drA6HfMvl"
      }
    },
    {
      "cell_type": "code",
      "source": [
        "#read 1st review , tokenize it, and remove all the stop words and all the punctuations\n",
        "pd.set_option('max_rows', 99999)\n",
        "pd.set_option('max_colwidth', 400)\n",
        "pd.describe_option('max_colwidth')\n",
        "\n",
        "tokenized_text = pd.DataFrame()\n",
        "\n",
        "for i, token in enumerate(doct):\n",
        "  tokenized_text.loc[i, 'Tokens'] = token.text\n",
        "  tokenized_text.loc[i, 'stop words'] = token.is_stop\n",
        "  tokenized_text.loc[i, 'IS_PUNCTUATION'] = token.is_punct\n",
        "\n",
        "tokenized_text"
      ],
      "metadata": {
        "colab": {
          "base_uri": "https://localhost:8080/",
          "height": 826
        },
        "id": "GglehVA0LNQG",
        "outputId": "e4e99158-7d65-4968-b5f1-3f2267a6ce02"
      },
      "execution_count": null,
      "outputs": [
        {
          "output_type": "stream",
          "name": "stdout",
          "text": [
            "display.max_colwidth : int or None\n",
            "    The maximum width in characters of a column in the repr of\n",
            "    a pandas data structure. When the column overflows, a \"...\"\n",
            "    placeholder is embedded in the output. A 'None' value means unlimited.\n",
            "    [default: 50] [currently: 400]\n"
          ]
        },
        {
          "output_type": "execute_result",
          "data": {
            "text/html": [
              "\n",
              "  <div id=\"df-3f2ab8f6-b881-416e-86f8-225205ffdbd2\">\n",
              "    <div class=\"colab-df-container\">\n",
              "      <div>\n",
              "<style scoped>\n",
              "    .dataframe tbody tr th:only-of-type {\n",
              "        vertical-align: middle;\n",
              "    }\n",
              "\n",
              "    .dataframe tbody tr th {\n",
              "        vertical-align: top;\n",
              "    }\n",
              "\n",
              "    .dataframe thead th {\n",
              "        text-align: right;\n",
              "    }\n",
              "</style>\n",
              "<table border=\"1\" class=\"dataframe\">\n",
              "  <thead>\n",
              "    <tr style=\"text-align: right;\">\n",
              "      <th></th>\n",
              "      <th>Tokens</th>\n",
              "      <th>stop words</th>\n",
              "      <th>IS_PUNCTUATION</th>\n",
              "    </tr>\n",
              "  </thead>\n",
              "  <tbody>\n",
              "    <tr>\n",
              "      <th>0</th>\n",
              "      <td>Not</td>\n",
              "      <td>True</td>\n",
              "      <td>False</td>\n",
              "    </tr>\n",
              "    <tr>\n",
              "      <th>1</th>\n",
              "      <td>sure</td>\n",
              "      <td>False</td>\n",
              "      <td>False</td>\n",
              "    </tr>\n",
              "    <tr>\n",
              "      <th>2</th>\n",
              "      <td>who</td>\n",
              "      <td>True</td>\n",
              "      <td>False</td>\n",
              "    </tr>\n",
              "    <tr>\n",
              "      <th>3</th>\n",
              "      <td>was</td>\n",
              "      <td>True</td>\n",
              "      <td>False</td>\n",
              "    </tr>\n",
              "    <tr>\n",
              "      <th>4</th>\n",
              "      <td>more</td>\n",
              "      <td>True</td>\n",
              "      <td>False</td>\n",
              "    </tr>\n",
              "    <tr>\n",
              "      <th>5</th>\n",
              "      <td>lost</td>\n",
              "      <td>False</td>\n",
              "      <td>False</td>\n",
              "    </tr>\n",
              "    <tr>\n",
              "      <th>6</th>\n",
              "      <td>-</td>\n",
              "      <td>False</td>\n",
              "      <td>True</td>\n",
              "    </tr>\n",
              "    <tr>\n",
              "      <th>7</th>\n",
              "      <td>the</td>\n",
              "      <td>True</td>\n",
              "      <td>False</td>\n",
              "    </tr>\n",
              "    <tr>\n",
              "      <th>8</th>\n",
              "      <td>flat</td>\n",
              "      <td>False</td>\n",
              "      <td>False</td>\n",
              "    </tr>\n",
              "    <tr>\n",
              "      <th>9</th>\n",
              "      <td>characters</td>\n",
              "      <td>False</td>\n",
              "      <td>False</td>\n",
              "    </tr>\n",
              "    <tr>\n",
              "      <th>10</th>\n",
              "      <td>or</td>\n",
              "      <td>True</td>\n",
              "      <td>False</td>\n",
              "    </tr>\n",
              "    <tr>\n",
              "      <th>11</th>\n",
              "      <td>the</td>\n",
              "      <td>True</td>\n",
              "      <td>False</td>\n",
              "    </tr>\n",
              "    <tr>\n",
              "      <th>12</th>\n",
              "      <td>audience</td>\n",
              "      <td>False</td>\n",
              "      <td>False</td>\n",
              "    </tr>\n",
              "    <tr>\n",
              "      <th>13</th>\n",
              "      <td>,</td>\n",
              "      <td>False</td>\n",
              "      <td>True</td>\n",
              "    </tr>\n",
              "    <tr>\n",
              "      <th>14</th>\n",
              "      <td>nearly</td>\n",
              "      <td>False</td>\n",
              "      <td>False</td>\n",
              "    </tr>\n",
              "    <tr>\n",
              "      <th>15</th>\n",
              "      <td>half</td>\n",
              "      <td>False</td>\n",
              "      <td>False</td>\n",
              "    </tr>\n",
              "    <tr>\n",
              "      <th>16</th>\n",
              "      <td>of</td>\n",
              "      <td>True</td>\n",
              "      <td>False</td>\n",
              "    </tr>\n",
              "    <tr>\n",
              "      <th>17</th>\n",
              "      <td>whom</td>\n",
              "      <td>True</td>\n",
              "      <td>False</td>\n",
              "    </tr>\n",
              "    <tr>\n",
              "      <th>18</th>\n",
              "      <td>walked</td>\n",
              "      <td>False</td>\n",
              "      <td>False</td>\n",
              "    </tr>\n",
              "    <tr>\n",
              "      <th>19</th>\n",
              "      <td>out</td>\n",
              "      <td>True</td>\n",
              "      <td>False</td>\n",
              "    </tr>\n",
              "    <tr>\n",
              "      <th>20</th>\n",
              "      <td>.</td>\n",
              "      <td>False</td>\n",
              "      <td>True</td>\n",
              "    </tr>\n",
              "    <tr>\n",
              "      <th>21</th>\n",
              "      <td></td>\n",
              "      <td>False</td>\n",
              "      <td>False</td>\n",
              "    </tr>\n",
              "  </tbody>\n",
              "</table>\n",
              "</div>\n",
              "      <button class=\"colab-df-convert\" onclick=\"convertToInteractive('df-3f2ab8f6-b881-416e-86f8-225205ffdbd2')\"\n",
              "              title=\"Convert this dataframe to an interactive table.\"\n",
              "              style=\"display:none;\">\n",
              "        \n",
              "  <svg xmlns=\"http://www.w3.org/2000/svg\" height=\"24px\"viewBox=\"0 0 24 24\"\n",
              "       width=\"24px\">\n",
              "    <path d=\"M0 0h24v24H0V0z\" fill=\"none\"/>\n",
              "    <path d=\"M18.56 5.44l.94 2.06.94-2.06 2.06-.94-2.06-.94-.94-2.06-.94 2.06-2.06.94zm-11 1L8.5 8.5l.94-2.06 2.06-.94-2.06-.94L8.5 2.5l-.94 2.06-2.06.94zm10 10l.94 2.06.94-2.06 2.06-.94-2.06-.94-.94-2.06-.94 2.06-2.06.94z\"/><path d=\"M17.41 7.96l-1.37-1.37c-.4-.4-.92-.59-1.43-.59-.52 0-1.04.2-1.43.59L10.3 9.45l-7.72 7.72c-.78.78-.78 2.05 0 2.83L4 21.41c.39.39.9.59 1.41.59.51 0 1.02-.2 1.41-.59l7.78-7.78 2.81-2.81c.8-.78.8-2.07 0-2.86zM5.41 20L4 18.59l7.72-7.72 1.47 1.35L5.41 20z\"/>\n",
              "  </svg>\n",
              "      </button>\n",
              "      \n",
              "  <style>\n",
              "    .colab-df-container {\n",
              "      display:flex;\n",
              "      flex-wrap:wrap;\n",
              "      gap: 12px;\n",
              "    }\n",
              "\n",
              "    .colab-df-convert {\n",
              "      background-color: #E8F0FE;\n",
              "      border: none;\n",
              "      border-radius: 50%;\n",
              "      cursor: pointer;\n",
              "      display: none;\n",
              "      fill: #1967D2;\n",
              "      height: 32px;\n",
              "      padding: 0 0 0 0;\n",
              "      width: 32px;\n",
              "    }\n",
              "\n",
              "    .colab-df-convert:hover {\n",
              "      background-color: #E2EBFA;\n",
              "      box-shadow: 0px 1px 2px rgba(60, 64, 67, 0.3), 0px 1px 3px 1px rgba(60, 64, 67, 0.15);\n",
              "      fill: #174EA6;\n",
              "    }\n",
              "\n",
              "    [theme=dark] .colab-df-convert {\n",
              "      background-color: #3B4455;\n",
              "      fill: #D2E3FC;\n",
              "    }\n",
              "\n",
              "    [theme=dark] .colab-df-convert:hover {\n",
              "      background-color: #434B5C;\n",
              "      box-shadow: 0px 1px 3px 1px rgba(0, 0, 0, 0.15);\n",
              "      filter: drop-shadow(0px 1px 2px rgba(0, 0, 0, 0.3));\n",
              "      fill: #FFFFFF;\n",
              "    }\n",
              "  </style>\n",
              "\n",
              "      <script>\n",
              "        const buttonEl =\n",
              "          document.querySelector('#df-3f2ab8f6-b881-416e-86f8-225205ffdbd2 button.colab-df-convert');\n",
              "        buttonEl.style.display =\n",
              "          google.colab.kernel.accessAllowed ? 'block' : 'none';\n",
              "\n",
              "        async function convertToInteractive(key) {\n",
              "          const element = document.querySelector('#df-3f2ab8f6-b881-416e-86f8-225205ffdbd2');\n",
              "          const dataTable =\n",
              "            await google.colab.kernel.invokeFunction('convertToInteractive',\n",
              "                                                     [key], {});\n",
              "          if (!dataTable) return;\n",
              "\n",
              "          const docLinkHtml = 'Like what you see? Visit the ' +\n",
              "            '<a target=\"_blank\" href=https://colab.research.google.com/notebooks/data_table.ipynb>data table notebook</a>'\n",
              "            + ' to learn more about interactive tables.';\n",
              "          element.innerHTML = '';\n",
              "          dataTable['output_type'] = 'display_data';\n",
              "          await google.colab.output.renderOutput(dataTable, element);\n",
              "          const docLink = document.createElement('div');\n",
              "          docLink.innerHTML = docLinkHtml;\n",
              "          element.appendChild(docLink);\n",
              "        }\n",
              "      </script>\n",
              "    </div>\n",
              "  </div>\n",
              "  "
            ],
            "text/plain": [
              "        Tokens stop words IS_PUNCTUATION\n",
              "0          Not       True          False\n",
              "1         sure      False          False\n",
              "2          who       True          False\n",
              "3          was       True          False\n",
              "4         more       True          False\n",
              "5         lost      False          False\n",
              "6            -      False           True\n",
              "7          the       True          False\n",
              "8         flat      False          False\n",
              "9   characters      False          False\n",
              "10          or       True          False\n",
              "11         the       True          False\n",
              "12    audience      False          False\n",
              "13           ,      False           True\n",
              "14      nearly      False          False\n",
              "15        half      False          False\n",
              "16          of       True          False\n",
              "17        whom       True          False\n",
              "18      walked      False          False\n",
              "19         out       True          False\n",
              "20           .      False           True\n",
              "21                  False          False"
            ]
          },
          "metadata": {},
          "execution_count": 110
        }
      ]
    },
    {
      "cell_type": "code",
      "source": [
        "# we can do like below also\n",
        "tokenized_text = tokenized_text.drop(tokenized_text[(tokenized_text['stop words'] == True) | (tokenized_text['IS_PUNCTUATION'] == True)].index)\n",
        "tokenized_text"
      ],
      "metadata": {
        "colab": {
          "base_uri": "https://localhost:8080/",
          "height": 331
        },
        "id": "Yt-jWytqyVfM",
        "outputId": "a6f04761-b03f-4a7b-859b-65e22ec8529f"
      },
      "execution_count": null,
      "outputs": [
        {
          "output_type": "execute_result",
          "data": {
            "text/html": [
              "\n",
              "  <div id=\"df-075a8230-6d14-420c-b962-44372ffeaaa6\">\n",
              "    <div class=\"colab-df-container\">\n",
              "      <div>\n",
              "<style scoped>\n",
              "    .dataframe tbody tr th:only-of-type {\n",
              "        vertical-align: middle;\n",
              "    }\n",
              "\n",
              "    .dataframe tbody tr th {\n",
              "        vertical-align: top;\n",
              "    }\n",
              "\n",
              "    .dataframe thead th {\n",
              "        text-align: right;\n",
              "    }\n",
              "</style>\n",
              "<table border=\"1\" class=\"dataframe\">\n",
              "  <thead>\n",
              "    <tr style=\"text-align: right;\">\n",
              "      <th></th>\n",
              "      <th>Tokens</th>\n",
              "      <th>stop words</th>\n",
              "      <th>IS_PUNCTUATION</th>\n",
              "    </tr>\n",
              "  </thead>\n",
              "  <tbody>\n",
              "    <tr>\n",
              "      <th>6</th>\n",
              "      <td>slow</td>\n",
              "      <td>False</td>\n",
              "      <td>False</td>\n",
              "    </tr>\n",
              "    <tr>\n",
              "      <th>8</th>\n",
              "      <td>moving</td>\n",
              "      <td>False</td>\n",
              "      <td>False</td>\n",
              "    </tr>\n",
              "    <tr>\n",
              "      <th>10</th>\n",
              "      <td>aimless</td>\n",
              "      <td>False</td>\n",
              "      <td>False</td>\n",
              "    </tr>\n",
              "    <tr>\n",
              "      <th>11</th>\n",
              "      <td>movie</td>\n",
              "      <td>False</td>\n",
              "      <td>False</td>\n",
              "    </tr>\n",
              "    <tr>\n",
              "      <th>14</th>\n",
              "      <td>distressed</td>\n",
              "      <td>False</td>\n",
              "      <td>False</td>\n",
              "    </tr>\n",
              "    <tr>\n",
              "      <th>16</th>\n",
              "      <td>drifting</td>\n",
              "      <td>False</td>\n",
              "      <td>False</td>\n",
              "    </tr>\n",
              "    <tr>\n",
              "      <th>17</th>\n",
              "      <td>young</td>\n",
              "      <td>False</td>\n",
              "      <td>False</td>\n",
              "    </tr>\n",
              "    <tr>\n",
              "      <th>18</th>\n",
              "      <td>man</td>\n",
              "      <td>False</td>\n",
              "      <td>False</td>\n",
              "    </tr>\n",
              "    <tr>\n",
              "      <th>20</th>\n",
              "      <td></td>\n",
              "      <td>False</td>\n",
              "      <td>False</td>\n",
              "    </tr>\n",
              "  </tbody>\n",
              "</table>\n",
              "</div>\n",
              "      <button class=\"colab-df-convert\" onclick=\"convertToInteractive('df-075a8230-6d14-420c-b962-44372ffeaaa6')\"\n",
              "              title=\"Convert this dataframe to an interactive table.\"\n",
              "              style=\"display:none;\">\n",
              "        \n",
              "  <svg xmlns=\"http://www.w3.org/2000/svg\" height=\"24px\"viewBox=\"0 0 24 24\"\n",
              "       width=\"24px\">\n",
              "    <path d=\"M0 0h24v24H0V0z\" fill=\"none\"/>\n",
              "    <path d=\"M18.56 5.44l.94 2.06.94-2.06 2.06-.94-2.06-.94-.94-2.06-.94 2.06-2.06.94zm-11 1L8.5 8.5l.94-2.06 2.06-.94-2.06-.94L8.5 2.5l-.94 2.06-2.06.94zm10 10l.94 2.06.94-2.06 2.06-.94-2.06-.94-.94-2.06-.94 2.06-2.06.94z\"/><path d=\"M17.41 7.96l-1.37-1.37c-.4-.4-.92-.59-1.43-.59-.52 0-1.04.2-1.43.59L10.3 9.45l-7.72 7.72c-.78.78-.78 2.05 0 2.83L4 21.41c.39.39.9.59 1.41.59.51 0 1.02-.2 1.41-.59l7.78-7.78 2.81-2.81c.8-.78.8-2.07 0-2.86zM5.41 20L4 18.59l7.72-7.72 1.47 1.35L5.41 20z\"/>\n",
              "  </svg>\n",
              "      </button>\n",
              "      \n",
              "  <style>\n",
              "    .colab-df-container {\n",
              "      display:flex;\n",
              "      flex-wrap:wrap;\n",
              "      gap: 12px;\n",
              "    }\n",
              "\n",
              "    .colab-df-convert {\n",
              "      background-color: #E8F0FE;\n",
              "      border: none;\n",
              "      border-radius: 50%;\n",
              "      cursor: pointer;\n",
              "      display: none;\n",
              "      fill: #1967D2;\n",
              "      height: 32px;\n",
              "      padding: 0 0 0 0;\n",
              "      width: 32px;\n",
              "    }\n",
              "\n",
              "    .colab-df-convert:hover {\n",
              "      background-color: #E2EBFA;\n",
              "      box-shadow: 0px 1px 2px rgba(60, 64, 67, 0.3), 0px 1px 3px 1px rgba(60, 64, 67, 0.15);\n",
              "      fill: #174EA6;\n",
              "    }\n",
              "\n",
              "    [theme=dark] .colab-df-convert {\n",
              "      background-color: #3B4455;\n",
              "      fill: #D2E3FC;\n",
              "    }\n",
              "\n",
              "    [theme=dark] .colab-df-convert:hover {\n",
              "      background-color: #434B5C;\n",
              "      box-shadow: 0px 1px 3px 1px rgba(0, 0, 0, 0.15);\n",
              "      filter: drop-shadow(0px 1px 2px rgba(0, 0, 0, 0.3));\n",
              "      fill: #FFFFFF;\n",
              "    }\n",
              "  </style>\n",
              "\n",
              "      <script>\n",
              "        const buttonEl =\n",
              "          document.querySelector('#df-075a8230-6d14-420c-b962-44372ffeaaa6 button.colab-df-convert');\n",
              "        buttonEl.style.display =\n",
              "          google.colab.kernel.accessAllowed ? 'block' : 'none';\n",
              "\n",
              "        async function convertToInteractive(key) {\n",
              "          const element = document.querySelector('#df-075a8230-6d14-420c-b962-44372ffeaaa6');\n",
              "          const dataTable =\n",
              "            await google.colab.kernel.invokeFunction('convertToInteractive',\n",
              "                                                     [key], {});\n",
              "          if (!dataTable) return;\n",
              "\n",
              "          const docLinkHtml = 'Like what you see? Visit the ' +\n",
              "            '<a target=\"_blank\" href=https://colab.research.google.com/notebooks/data_table.ipynb>data table notebook</a>'\n",
              "            + ' to learn more about interactive tables.';\n",
              "          element.innerHTML = '';\n",
              "          dataTable['output_type'] = 'display_data';\n",
              "          await google.colab.output.renderOutput(dataTable, element);\n",
              "          const docLink = document.createElement('div');\n",
              "          docLink.innerHTML = docLinkHtml;\n",
              "          element.appendChild(docLink);\n",
              "        }\n",
              "      </script>\n",
              "    </div>\n",
              "  </div>\n",
              "  "
            ],
            "text/plain": [
              "        Tokens stop words IS_PUNCTUATION\n",
              "6         slow      False          False\n",
              "8       moving      False          False\n",
              "10     aimless      False          False\n",
              "11       movie      False          False\n",
              "14  distressed      False          False\n",
              "16    drifting      False          False\n",
              "17       young      False          False\n",
              "18         man      False          False\n",
              "20                  False          False"
            ]
          },
          "metadata": {},
          "execution_count": 35
        }
      ]
    },
    {
      "cell_type": "code",
      "source": [
        "#another way\n",
        "imp_w = []\n",
        "for token in doct:\n",
        "  if token.is_stop:\n",
        "    continue\n",
        "  if token.is_punct:\n",
        "    continue\n",
        "  else:\n",
        "    imp_w.append(token)\n",
        "\n",
        "print(imp_w)"
      ],
      "metadata": {
        "colab": {
          "base_uri": "https://localhost:8080/"
        },
        "id": "eSCu0h9M07Wz",
        "outputId": "51ef3fbb-2374-484b-827b-b841366c1907"
      },
      "execution_count": null,
      "outputs": [
        {
          "output_type": "stream",
          "name": "stdout",
          "text": [
            "[slow, moving, aimless, movie, distressed, drifting, young, man,  ]\n"
          ]
        }
      ]
    },
    {
      "cell_type": "code",
      "source": [
        "import string\n",
        "punct = string.punctuation\n",
        "#stopwords = nlp.Defaults.stop_words\n",
        "punct"
      ],
      "metadata": {
        "colab": {
          "base_uri": "https://localhost:8080/",
          "height": 35
        },
        "id": "OBn1iwu673uj",
        "outputId": "86f9fdf4-4a08-45ae-fba8-3a9850da4ae6"
      },
      "execution_count": null,
      "outputs": [
        {
          "output_type": "execute_result",
          "data": {
            "application/vnd.google.colaboratory.intrinsic+json": {
              "type": "string"
            },
            "text/plain": [
              "'!\"#$%&\\'()*+,-./:;<=>?@[\\\\]^_`{|}~'"
            ]
          },
          "metadata": {},
          "execution_count": 37
        }
      ]
    },
    {
      "cell_type": "code",
      "source": [
        "from spacy.lang.en.stop_words import STOP_WORDS"
      ],
      "metadata": {
        "id": "D2oOdwfu8XHG"
      },
      "execution_count": null,
      "outputs": []
    },
    {
      "cell_type": "code",
      "source": [
        "punct = string.punctuation\n",
        "def text_data_cleaning(review):\n",
        "  doc = nlp(review)\n",
        "\n",
        "  tokens = []\n",
        "\n",
        "  for token in doc:\n",
        "    if token.lemma_ != \"-PRON-\":\n",
        "      temp = token.lemma_.lower().strip()\n",
        "    else:\n",
        "      temp = token.lower_\n",
        "\n",
        "    tokens.append(temp)\n",
        "\n",
        "  cleaned_tokens = []\n",
        "  for token in tokens:\n",
        "    if token not in stopwords and token not in punct:\n",
        "      cleaned_tokens.append(token)\n",
        "\n",
        "  return cleaned_tokens"
      ],
      "metadata": {
        "id": "w5QxFacy0jpN"
      },
      "execution_count": null,
      "outputs": []
    },
    {
      "cell_type": "code",
      "source": [
        "#@title\n",
        "clean_token  = text_data_cleaning(df['Review'][0])\n",
        "clean_token"
      ],
      "metadata": {
        "id": "g2-dCYW6AQIm",
        "cellView": "form"
      },
      "execution_count": null,
      "outputs": []
    },
    {
      "cell_type": "code",
      "source": [
        "def tokenize(x):\n",
        "  doc=nlp(x)\n",
        "  lst=[]\n",
        "  for token in doc:\n",
        "    if token.is_stop==False and token.is_punct==False:\n",
        "      lst.append(token)\n",
        "  lst1=[]\n",
        "  for i in lst:\n",
        "    i=str(i)\n",
        "    lst1.append(i)\n",
        "\n",
        "  return ' '.join(lst1)\n",
        "\n",
        "df['tokenized']=df['Review'].apply(lambda x: tokenize(x))  "
      ],
      "metadata": {
        "id": "R9hdDuKUf9br"
      },
      "execution_count": null,
      "outputs": []
    },
    {
      "cell_type": "code",
      "source": [
        "clean_token = text_data_cleaning(df['Review'][1])\n",
        "clean_token"
      ],
      "metadata": {
        "colab": {
          "base_uri": "https://localhost:8080/"
        },
        "id": "SaKxxWQfgHxk",
        "outputId": "276217c8-7144-4a34-a685-6f89e31ad655"
      },
      "execution_count": null,
      "outputs": [
        {
          "output_type": "execute_result",
          "data": {
            "text/plain": [
              "['sure', 'lose', 'flat', 'character', 'audience', 'nearly', 'half', 'walk']"
            ]
          },
          "metadata": {},
          "execution_count": 113
        }
      ]
    },
    {
      "cell_type": "code",
      "source": [
        "clean2 = tokenize(df['Review'][1])\n",
        "clean2"
      ],
      "metadata": {
        "colab": {
          "base_uri": "https://localhost:8080/",
          "height": 35
        },
        "id": "9V0ez6oQgMbU",
        "outputId": "5eeb8d3b-14d3-42c4-f2bc-5feaf738aa15"
      },
      "execution_count": null,
      "outputs": [
        {
          "output_type": "execute_result",
          "data": {
            "application/vnd.google.colaboratory.intrinsic+json": {
              "type": "string"
            },
            "text/plain": [
              "'sure lost flat characters audience nearly half walked  '"
            ]
          },
          "metadata": {},
          "execution_count": 114
        }
      ]
    },
    {
      "cell_type": "code",
      "source": [
        "X = df['Review']\n",
        "y = df['Sentiment']"
      ],
      "metadata": {
        "id": "HpL1o307gT3m"
      },
      "execution_count": null,
      "outputs": []
    },
    {
      "cell_type": "code",
      "source": [
        "df.head()"
      ],
      "metadata": {
        "colab": {
          "base_uri": "https://localhost:8080/",
          "height": 337
        },
        "id": "6ImypoZ6gVve",
        "outputId": "da2d7d2e-08bf-4d57-fea4-eac20c00cf02"
      },
      "execution_count": null,
      "outputs": [
        {
          "output_type": "execute_result",
          "data": {
            "text/html": [
              "\n",
              "  <div id=\"df-9828afd0-0754-4a97-9315-3daff3c6b45a\">\n",
              "    <div class=\"colab-df-container\">\n",
              "      <div>\n",
              "<style scoped>\n",
              "    .dataframe tbody tr th:only-of-type {\n",
              "        vertical-align: middle;\n",
              "    }\n",
              "\n",
              "    .dataframe tbody tr th {\n",
              "        vertical-align: top;\n",
              "    }\n",
              "\n",
              "    .dataframe thead th {\n",
              "        text-align: right;\n",
              "    }\n",
              "</style>\n",
              "<table border=\"1\" class=\"dataframe\">\n",
              "  <thead>\n",
              "    <tr style=\"text-align: right;\">\n",
              "      <th></th>\n",
              "      <th>Review</th>\n",
              "      <th>Sentiment</th>\n",
              "      <th>tokenized</th>\n",
              "    </tr>\n",
              "  </thead>\n",
              "  <tbody>\n",
              "    <tr>\n",
              "      <th>0</th>\n",
              "      <td>A very, very, very slow-moving, aimless movie about a distressed, drifting young man.</td>\n",
              "      <td>0</td>\n",
              "      <td>slow moving aimless movie distressed drifting young man</td>\n",
              "    </tr>\n",
              "    <tr>\n",
              "      <th>1</th>\n",
              "      <td>Not sure who was more lost - the flat characters or the audience, nearly half of whom walked out.</td>\n",
              "      <td>0</td>\n",
              "      <td>sure lost flat characters audience nearly half walked</td>\n",
              "    </tr>\n",
              "    <tr>\n",
              "      <th>2</th>\n",
              "      <td>Attempting artiness with black &amp; white and clever camera angles, the movie disappointed - became even more ridiculous - as the acting was poor and the plot and lines almost non-existent.</td>\n",
              "      <td>0</td>\n",
              "      <td>Attempting artiness black white clever camera angles movie disappointed ridiculous acting poor plot lines non existent</td>\n",
              "    </tr>\n",
              "    <tr>\n",
              "      <th>3</th>\n",
              "      <td>Very little music or anything to speak of.</td>\n",
              "      <td>0</td>\n",
              "      <td>little music speak</td>\n",
              "    </tr>\n",
              "    <tr>\n",
              "      <th>4</th>\n",
              "      <td>The best scene in the movie was when Gerardo is trying to find a song that keeps running through his head.</td>\n",
              "      <td>1</td>\n",
              "      <td>best scene movie Gerardo trying find song keeps running head</td>\n",
              "    </tr>\n",
              "  </tbody>\n",
              "</table>\n",
              "</div>\n",
              "      <button class=\"colab-df-convert\" onclick=\"convertToInteractive('df-9828afd0-0754-4a97-9315-3daff3c6b45a')\"\n",
              "              title=\"Convert this dataframe to an interactive table.\"\n",
              "              style=\"display:none;\">\n",
              "        \n",
              "  <svg xmlns=\"http://www.w3.org/2000/svg\" height=\"24px\"viewBox=\"0 0 24 24\"\n",
              "       width=\"24px\">\n",
              "    <path d=\"M0 0h24v24H0V0z\" fill=\"none\"/>\n",
              "    <path d=\"M18.56 5.44l.94 2.06.94-2.06 2.06-.94-2.06-.94-.94-2.06-.94 2.06-2.06.94zm-11 1L8.5 8.5l.94-2.06 2.06-.94-2.06-.94L8.5 2.5l-.94 2.06-2.06.94zm10 10l.94 2.06.94-2.06 2.06-.94-2.06-.94-.94-2.06-.94 2.06-2.06.94z\"/><path d=\"M17.41 7.96l-1.37-1.37c-.4-.4-.92-.59-1.43-.59-.52 0-1.04.2-1.43.59L10.3 9.45l-7.72 7.72c-.78.78-.78 2.05 0 2.83L4 21.41c.39.39.9.59 1.41.59.51 0 1.02-.2 1.41-.59l7.78-7.78 2.81-2.81c.8-.78.8-2.07 0-2.86zM5.41 20L4 18.59l7.72-7.72 1.47 1.35L5.41 20z\"/>\n",
              "  </svg>\n",
              "      </button>\n",
              "      \n",
              "  <style>\n",
              "    .colab-df-container {\n",
              "      display:flex;\n",
              "      flex-wrap:wrap;\n",
              "      gap: 12px;\n",
              "    }\n",
              "\n",
              "    .colab-df-convert {\n",
              "      background-color: #E8F0FE;\n",
              "      border: none;\n",
              "      border-radius: 50%;\n",
              "      cursor: pointer;\n",
              "      display: none;\n",
              "      fill: #1967D2;\n",
              "      height: 32px;\n",
              "      padding: 0 0 0 0;\n",
              "      width: 32px;\n",
              "    }\n",
              "\n",
              "    .colab-df-convert:hover {\n",
              "      background-color: #E2EBFA;\n",
              "      box-shadow: 0px 1px 2px rgba(60, 64, 67, 0.3), 0px 1px 3px 1px rgba(60, 64, 67, 0.15);\n",
              "      fill: #174EA6;\n",
              "    }\n",
              "\n",
              "    [theme=dark] .colab-df-convert {\n",
              "      background-color: #3B4455;\n",
              "      fill: #D2E3FC;\n",
              "    }\n",
              "\n",
              "    [theme=dark] .colab-df-convert:hover {\n",
              "      background-color: #434B5C;\n",
              "      box-shadow: 0px 1px 3px 1px rgba(0, 0, 0, 0.15);\n",
              "      filter: drop-shadow(0px 1px 2px rgba(0, 0, 0, 0.3));\n",
              "      fill: #FFFFFF;\n",
              "    }\n",
              "  </style>\n",
              "\n",
              "      <script>\n",
              "        const buttonEl =\n",
              "          document.querySelector('#df-9828afd0-0754-4a97-9315-3daff3c6b45a button.colab-df-convert');\n",
              "        buttonEl.style.display =\n",
              "          google.colab.kernel.accessAllowed ? 'block' : 'none';\n",
              "\n",
              "        async function convertToInteractive(key) {\n",
              "          const element = document.querySelector('#df-9828afd0-0754-4a97-9315-3daff3c6b45a');\n",
              "          const dataTable =\n",
              "            await google.colab.kernel.invokeFunction('convertToInteractive',\n",
              "                                                     [key], {});\n",
              "          if (!dataTable) return;\n",
              "\n",
              "          const docLinkHtml = 'Like what you see? Visit the ' +\n",
              "            '<a target=\"_blank\" href=https://colab.research.google.com/notebooks/data_table.ipynb>data table notebook</a>'\n",
              "            + ' to learn more about interactive tables.';\n",
              "          element.innerHTML = '';\n",
              "          dataTable['output_type'] = 'display_data';\n",
              "          await google.colab.output.renderOutput(dataTable, element);\n",
              "          const docLink = document.createElement('div');\n",
              "          docLink.innerHTML = docLinkHtml;\n",
              "          element.appendChild(docLink);\n",
              "        }\n",
              "      </script>\n",
              "    </div>\n",
              "  </div>\n",
              "  "
            ],
            "text/plain": [
              "                                                                                                                                                                                         Review  ...                                                                                                                 tokenized\n",
              "0                                                                                                       A very, very, very slow-moving, aimless movie about a distressed, drifting young man.    ...                                                                 slow moving aimless movie distressed drifting young man  \n",
              "1                                                                                           Not sure who was more lost - the flat characters or the audience, nearly half of whom walked out.    ...                                                                   sure lost flat characters audience nearly half walked  \n",
              "2  Attempting artiness with black & white and clever camera angles, the movie disappointed - became even more ridiculous - as the acting was poor and the plot and lines almost non-existent.    ...  Attempting artiness black white clever camera angles movie disappointed ridiculous acting poor plot lines non existent  \n",
              "3                                                                                                                                                  Very little music or anything to speak of.    ...                                                                                                      little music speak  \n",
              "4                                                                                  The best scene in the movie was when Gerardo is trying to find a song that keeps running through his head.    ...                                                            best scene movie Gerardo trying find song keeps running head  \n",
              "\n",
              "[5 rows x 3 columns]"
            ]
          },
          "metadata": {},
          "execution_count": 116
        }
      ]
    },
    {
      "cell_type": "code",
      "source": [
        "from sklearn.feature_extraction.text import TfidfVectorizer"
      ],
      "metadata": {
        "id": "M91m291PBBRm"
      },
      "execution_count": null,
      "outputs": []
    },
    {
      "cell_type": "code",
      "source": [
        "tfidf = TfidfVectorizer(tokenizer= text_data_cleaning)\n",
        "X = tfidf.fit_transform(df['Review'])"
      ],
      "metadata": {
        "id": "PF_IzzssBlnr"
      },
      "execution_count": null,
      "outputs": []
    },
    {
      "cell_type": "code",
      "source": [
        "from sklearn.model_selection import train_test_split\n",
        "X_train, X_test, y_train, y_test = train_test_split(X,y, test_size=0.2, random_state=64)"
      ],
      "metadata": {
        "id": "CbYaB1OxCr4k"
      },
      "execution_count": null,
      "outputs": []
    },
    {
      "cell_type": "code",
      "source": [
        "X_test.shape"
      ],
      "metadata": {
        "colab": {
          "base_uri": "https://localhost:8080/"
        },
        "id": "FsDoHfN9DQnS",
        "outputId": "deb2eaec-3ced-47fc-aaa7-af2a1632c88b"
      },
      "execution_count": null,
      "outputs": [
        {
          "output_type": "execute_result",
          "data": {
            "text/plain": [
              "(150, 2478)"
            ]
          },
          "metadata": {},
          "execution_count": 123
        }
      ]
    },
    {
      "cell_type": "code",
      "source": [
        "y_test.shape"
      ],
      "metadata": {
        "colab": {
          "base_uri": "https://localhost:8080/"
        },
        "id": "_iZ1wiCKDVk8",
        "outputId": "d92f1825-e5b0-496f-9a70-eb61e17209b8"
      },
      "execution_count": null,
      "outputs": [
        {
          "output_type": "execute_result",
          "data": {
            "text/plain": [
              "(150,)"
            ]
          },
          "metadata": {},
          "execution_count": 122
        }
      ]
    },
    {
      "cell_type": "code",
      "source": [
        "#we will fit a classifier model on X_train, y_train\n",
        "# SVClassifier\n",
        "from sklearn.svm import LinearSVC\n",
        "from sklearn.metrics import classification_report, confusion_matrix"
      ],
      "metadata": {
        "id": "x9xNXBGBVN4o"
      },
      "execution_count": null,
      "outputs": []
    },
    {
      "cell_type": "code",
      "source": [
        "classifier = LinearSVC()\n",
        "\n",
        "classifier.fit(X_train,y_train)"
      ],
      "metadata": {
        "colab": {
          "base_uri": "https://localhost:8080/"
        },
        "id": "2LR3Ej2HVV2o",
        "outputId": "90875288-4afc-4a3e-e3f7-940ccc1117ff"
      },
      "execution_count": null,
      "outputs": [
        {
          "output_type": "execute_result",
          "data": {
            "text/plain": [
              "LinearSVC()"
            ]
          },
          "metadata": {},
          "execution_count": 125
        }
      ]
    },
    {
      "cell_type": "code",
      "source": [
        "y_pred = classifier.predict(X_test)"
      ],
      "metadata": {
        "id": "vBCh5GmvV1YM"
      },
      "execution_count": null,
      "outputs": []
    },
    {
      "cell_type": "code",
      "source": [
        "print(confusion_matrix(y_test,y_pred))\n",
        "print(classification_report(y_test, y_pred))"
      ],
      "metadata": {
        "colab": {
          "base_uri": "https://localhost:8080/"
        },
        "id": "uKsqcX1TYNAO",
        "outputId": "bfedd618-b3d2-4661-b37c-a79a6750d139"
      },
      "execution_count": null,
      "outputs": [
        {
          "output_type": "stream",
          "name": "stdout",
          "text": [
            "[[55 15]\n",
            " [15 65]]\n",
            "              precision    recall  f1-score   support\n",
            "\n",
            "           0       0.79      0.79      0.79        70\n",
            "           1       0.81      0.81      0.81        80\n",
            "\n",
            "    accuracy                           0.80       150\n",
            "   macro avg       0.80      0.80      0.80       150\n",
            "weighted avg       0.80      0.80      0.80       150\n",
            "\n"
          ]
        }
      ]
    },
    {
      "cell_type": "markdown",
      "source": [
        "#####*Another way*"
      ],
      "metadata": {
        "id": "EDwL0QKwfWYO"
      }
    },
    {
      "cell_type": "code",
      "source": [
        "def tokenize(x):\n",
        "  doc=nlp(x)\n",
        "  lst=[]\n",
        "  for token in doc:\n",
        "    if token.is_stop==False and token.is_punct==False:\n",
        "      lst.append(token)\n",
        "  lst1=[]\n",
        "  for i in lst:\n",
        "    i=str(i)\n",
        "    lst1.append(i)\n",
        "\n",
        "  return ' '.join(lst1)\n",
        "\n",
        "df['tokenized']=df['Review'].apply(lambda x: tokenize(x))  "
      ],
      "metadata": {
        "id": "lakRBNI4yfX8"
      },
      "execution_count": null,
      "outputs": []
    },
    {
      "cell_type": "code",
      "source": [
        "def text_data_cleaning(review):\n",
        "  doc = nlp(review)\n",
        "\n",
        "  tokens = []\n",
        "\n",
        "  for token in doc:\n",
        "    if token.lemma_ != \"-PRON-\":\n",
        "      temp = token.lemma_.lower().strip()\n",
        "    else:\n",
        "      temp = token.lower_\n",
        "\n",
        "    tokens.append(temp)\n",
        "\n",
        "  cleaned_tokens = []\n",
        "  for token in tokens:\n",
        "    if token not in stopwords and token not in punct:\n",
        "      cleaned_tokens.append(token)\n",
        "\n",
        "  return cleaned_tokens"
      ],
      "metadata": {
        "id": "BW_b16TR_HqW"
      },
      "execution_count": null,
      "outputs": []
    },
    {
      "cell_type": "code",
      "source": [
        "clean_token1 = text_data_cleaning(df['Review'][1])\n",
        "clean_token1"
      ],
      "metadata": {
        "id": "R1hu1slTdK58",
        "colab": {
          "base_uri": "https://localhost:8080/"
        },
        "outputId": "89ade69f-5b2f-43ba-9dd7-33fdd04c41b6"
      },
      "execution_count": null,
      "outputs": [
        {
          "output_type": "execute_result",
          "data": {
            "text/plain": [
              "['sure', 'lose', 'flat', 'character', 'audience', 'nearly', 'half', 'walk']"
            ]
          },
          "metadata": {},
          "execution_count": 141
        }
      ]
    },
    {
      "cell_type": "code",
      "source": [
        "for token in doc.ents:\n",
        "  print(clean_token1, token.label_)"
      ],
      "metadata": {
        "id": "bqVI7AYIhWbW",
        "colab": {
          "base_uri": "https://localhost:8080/"
        },
        "outputId": "39578b9e-8abc-4908-d0ca-7ce40ece3f7d"
      },
      "execution_count": null,
      "outputs": [
        {
          "output_type": "stream",
          "name": "stdout",
          "text": [
            "['sure', 'lose', 'flat', 'character', 'audience', 'nearly', 'half', 'walk'] PERSON\n",
            "['sure', 'lose', 'flat', 'character', 'audience', 'nearly', 'half', 'walk'] PERSON\n",
            "['sure', 'lose', 'flat', 'character', 'audience', 'nearly', 'half', 'walk'] GPE\n",
            "['sure', 'lose', 'flat', 'character', 'audience', 'nearly', 'half', 'walk'] GPE\n",
            "['sure', 'lose', 'flat', 'character', 'audience', 'nearly', 'half', 'walk'] GPE\n",
            "['sure', 'lose', 'flat', 'character', 'audience', 'nearly', 'half', 'walk'] DATE\n",
            "['sure', 'lose', 'flat', 'character', 'audience', 'nearly', 'half', 'walk'] NORP\n",
            "['sure', 'lose', 'flat', 'character', 'audience', 'nearly', 'half', 'walk'] PERSON\n",
            "['sure', 'lose', 'flat', 'character', 'audience', 'nearly', 'half', 'walk'] PERSON\n",
            "['sure', 'lose', 'flat', 'character', 'audience', 'nearly', 'half', 'walk'] DATE\n",
            "['sure', 'lose', 'flat', 'character', 'audience', 'nearly', 'half', 'walk'] DATE\n",
            "['sure', 'lose', 'flat', 'character', 'audience', 'nearly', 'half', 'walk'] PERSON\n",
            "['sure', 'lose', 'flat', 'character', 'audience', 'nearly', 'half', 'walk'] PERSON\n",
            "['sure', 'lose', 'flat', 'character', 'audience', 'nearly', 'half', 'walk'] DATE\n",
            "['sure', 'lose', 'flat', 'character', 'audience', 'nearly', 'half', 'walk'] GPE\n",
            "['sure', 'lose', 'flat', 'character', 'audience', 'nearly', 'half', 'walk'] ORG\n",
            "['sure', 'lose', 'flat', 'character', 'audience', 'nearly', 'half', 'walk'] ORG\n",
            "['sure', 'lose', 'flat', 'character', 'audience', 'nearly', 'half', 'walk'] ORDINAL\n",
            "['sure', 'lose', 'flat', 'character', 'audience', 'nearly', 'half', 'walk'] CARDINAL\n",
            "['sure', 'lose', 'flat', 'character', 'audience', 'nearly', 'half', 'walk'] DATE\n",
            "['sure', 'lose', 'flat', 'character', 'audience', 'nearly', 'half', 'walk'] PERSON\n",
            "['sure', 'lose', 'flat', 'character', 'audience', 'nearly', 'half', 'walk'] ORG\n",
            "['sure', 'lose', 'flat', 'character', 'audience', 'nearly', 'half', 'walk'] DATE\n",
            "['sure', 'lose', 'flat', 'character', 'audience', 'nearly', 'half', 'walk'] DATE\n"
          ]
        }
      ]
    },
    {
      "cell_type": "code",
      "source": [
        "from sklearn.feature_extraction.text import TfidfVectorizer\n",
        "tfidf1 = TfidfVectorizer(tokenizer=text_data_cleaning)\n",
        "X1 = tfidf1.fit_transform(df['Review'])"
      ],
      "metadata": {
        "id": "Yk_3rdiOYSd1"
      },
      "execution_count": null,
      "outputs": []
    },
    {
      "cell_type": "code",
      "source": [
        "y1 = df['Sentiment']"
      ],
      "metadata": {
        "id": "V4iNDTxIh3Is"
      },
      "execution_count": null,
      "outputs": []
    },
    {
      "cell_type": "code",
      "source": [
        "from sklearn.model_selection import train_test_split\n",
        "X_train, X_test, y_train, y_test = train_test_split(X1,y1, test_size=0.3, random_state=64)"
      ],
      "metadata": {
        "id": "QpCLnHoGrmrf"
      },
      "execution_count": null,
      "outputs": []
    },
    {
      "cell_type": "code",
      "source": [
        "print(X_train.shape)\n",
        "print(y_train.shape)"
      ],
      "metadata": {
        "id": "AVmDbGD8B-Hl",
        "colab": {
          "base_uri": "https://localhost:8080/"
        },
        "outputId": "8f0dbec0-79f9-4d61-9e46-b105629afa32"
      },
      "execution_count": null,
      "outputs": [
        {
          "output_type": "stream",
          "name": "stdout",
          "text": [
            "(523, 2478)\n",
            "(523,)\n"
          ]
        }
      ]
    },
    {
      "cell_type": "code",
      "source": [
        "from sklearn.svm import LinearSVC, SVC\n",
        "from sklearn.metrics import classification_report, confusion_matrix"
      ],
      "metadata": {
        "id": "RPI_mIKesgEc"
      },
      "execution_count": null,
      "outputs": []
    },
    {
      "cell_type": "code",
      "source": [
        "model_svc = LinearSVC()\n",
        "\n",
        "model_svc.fit(X_train, y_train)\n",
        "\n",
        "y_pred_train = model_svc.predict(X_train)\n",
        "y_pred_test = model_svc.predict(X_test)"
      ],
      "metadata": {
        "id": "pDQE4thku4lN"
      },
      "execution_count": null,
      "outputs": []
    },
    {
      "cell_type": "code",
      "source": [
        "print(confusion_matrix(y_test, y_pred_test))\n",
        "print(classification_report(y_test, y_pred_test))"
      ],
      "metadata": {
        "colab": {
          "base_uri": "https://localhost:8080/"
        },
        "id": "Unsu8OUKzggE",
        "outputId": "c3ca86d6-a566-4be3-da3b-e4fffb160490"
      },
      "execution_count": null,
      "outputs": [
        {
          "output_type": "stream",
          "name": "stdout",
          "text": [
            "[[79 25]\n",
            " [28 93]]\n",
            "              precision    recall  f1-score   support\n",
            "\n",
            "           0       0.74      0.76      0.75       104\n",
            "           1       0.79      0.77      0.78       121\n",
            "\n",
            "    accuracy                           0.76       225\n",
            "   macro avg       0.76      0.76      0.76       225\n",
            "weighted avg       0.77      0.76      0.76       225\n",
            "\n"
          ]
        }
      ]
    }
  ]
}